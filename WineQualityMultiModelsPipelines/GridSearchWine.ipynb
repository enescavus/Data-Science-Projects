{
 "cells": [
  {
   "cell_type": "code",
   "execution_count": 1,
   "id": "6de4582a",
   "metadata": {},
   "outputs": [],
   "source": [
    "# this notebook aimint to understand gridsearch in ml\n",
    "# focused on grid search process not data preprocessing\n",
    "# checkout my other notebooks on this topic if you want\n",
    "\n",
    "# author   : Enes Çavuş\n",
    "# date     : July 2021\n",
    "# subject  : Better Understanding of Grid Search"
   ]
  },
  {
   "cell_type": "code",
   "execution_count": 2,
   "id": "90dea3fa",
   "metadata": {},
   "outputs": [],
   "source": [
    "import pandas as pd\n",
    "import matplotlib.pyplot as plt\n",
    "import sklearn as sk\n",
    "import os\n",
    "import numpy as np\n",
    "import warnings\n",
    "from sklearn.utils import shuffle\n",
    "from sklearn.model_selection import train_test_split\n",
    "warnings.filterwarnings('ignore')"
   ]
  },
  {
   "cell_type": "code",
   "execution_count": 3,
   "id": "8b09e4eb",
   "metadata": {},
   "outputs": [],
   "source": [
    "import pandas as pd\n",
    "import numpy as np\n",
    "from sklearn.metrics import classification_report, confusion_matrix\n",
    "from sklearn.datasets import load_breast_cancer\n",
    "from sklearn.svm import SVC\n",
    "from sklearn.preprocessing import StandardScaler\n",
    "scaler = StandardScaler()"
   ]
  },
  {
   "cell_type": "code",
   "execution_count": 4,
   "id": "9cd46f33",
   "metadata": {},
   "outputs": [
    {
     "data": {
      "text/html": [
       "<div>\n",
       "<style scoped>\n",
       "    .dataframe tbody tr th:only-of-type {\n",
       "        vertical-align: middle;\n",
       "    }\n",
       "\n",
       "    .dataframe tbody tr th {\n",
       "        vertical-align: top;\n",
       "    }\n",
       "\n",
       "    .dataframe thead th {\n",
       "        text-align: right;\n",
       "    }\n",
       "</style>\n",
       "<table border=\"1\" class=\"dataframe\">\n",
       "  <thead>\n",
       "    <tr style=\"text-align: right;\">\n",
       "      <th></th>\n",
       "      <th>fixed acidity</th>\n",
       "      <th>volatile acidity</th>\n",
       "      <th>citric acid</th>\n",
       "      <th>residual sugar</th>\n",
       "      <th>chlorides</th>\n",
       "      <th>free sulfur dioxide</th>\n",
       "      <th>total sulfur dioxide</th>\n",
       "      <th>density</th>\n",
       "      <th>pH</th>\n",
       "      <th>sulphates</th>\n",
       "      <th>alcohol</th>\n",
       "      <th>quality</th>\n",
       "    </tr>\n",
       "  </thead>\n",
       "  <tbody>\n",
       "    <tr>\n",
       "      <th>834</th>\n",
       "      <td>8.8</td>\n",
       "      <td>0.685</td>\n",
       "      <td>0.26</td>\n",
       "      <td>1.6</td>\n",
       "      <td>0.088</td>\n",
       "      <td>16.0</td>\n",
       "      <td>23.0</td>\n",
       "      <td>0.99694</td>\n",
       "      <td>3.32</td>\n",
       "      <td>0.47</td>\n",
       "      <td>9.4</td>\n",
       "      <td>5</td>\n",
       "    </tr>\n",
       "    <tr>\n",
       "      <th>1131</th>\n",
       "      <td>5.9</td>\n",
       "      <td>0.190</td>\n",
       "      <td>0.21</td>\n",
       "      <td>1.7</td>\n",
       "      <td>0.045</td>\n",
       "      <td>57.0</td>\n",
       "      <td>135.0</td>\n",
       "      <td>0.99341</td>\n",
       "      <td>3.32</td>\n",
       "      <td>0.44</td>\n",
       "      <td>9.5</td>\n",
       "      <td>5</td>\n",
       "    </tr>\n",
       "    <tr>\n",
       "      <th>788</th>\n",
       "      <td>10.0</td>\n",
       "      <td>0.560</td>\n",
       "      <td>0.24</td>\n",
       "      <td>2.2</td>\n",
       "      <td>0.079</td>\n",
       "      <td>19.0</td>\n",
       "      <td>58.0</td>\n",
       "      <td>0.99910</td>\n",
       "      <td>3.18</td>\n",
       "      <td>0.56</td>\n",
       "      <td>10.1</td>\n",
       "      <td>6</td>\n",
       "    </tr>\n",
       "    <tr>\n",
       "      <th>1422</th>\n",
       "      <td>7.0</td>\n",
       "      <td>0.540</td>\n",
       "      <td>0.00</td>\n",
       "      <td>2.1</td>\n",
       "      <td>0.079</td>\n",
       "      <td>39.0</td>\n",
       "      <td>55.0</td>\n",
       "      <td>0.99560</td>\n",
       "      <td>3.39</td>\n",
       "      <td>0.84</td>\n",
       "      <td>11.4</td>\n",
       "      <td>6</td>\n",
       "    </tr>\n",
       "    <tr>\n",
       "      <th>426</th>\n",
       "      <td>6.4</td>\n",
       "      <td>0.670</td>\n",
       "      <td>0.08</td>\n",
       "      <td>2.1</td>\n",
       "      <td>0.045</td>\n",
       "      <td>19.0</td>\n",
       "      <td>48.0</td>\n",
       "      <td>0.99490</td>\n",
       "      <td>3.49</td>\n",
       "      <td>0.49</td>\n",
       "      <td>11.4</td>\n",
       "      <td>6</td>\n",
       "    </tr>\n",
       "    <tr>\n",
       "      <th>...</th>\n",
       "      <td>...</td>\n",
       "      <td>...</td>\n",
       "      <td>...</td>\n",
       "      <td>...</td>\n",
       "      <td>...</td>\n",
       "      <td>...</td>\n",
       "      <td>...</td>\n",
       "      <td>...</td>\n",
       "      <td>...</td>\n",
       "      <td>...</td>\n",
       "      <td>...</td>\n",
       "      <td>...</td>\n",
       "    </tr>\n",
       "    <tr>\n",
       "      <th>406</th>\n",
       "      <td>9.8</td>\n",
       "      <td>0.440</td>\n",
       "      <td>0.47</td>\n",
       "      <td>2.5</td>\n",
       "      <td>0.063</td>\n",
       "      <td>9.0</td>\n",
       "      <td>28.0</td>\n",
       "      <td>0.99810</td>\n",
       "      <td>3.24</td>\n",
       "      <td>0.65</td>\n",
       "      <td>10.8</td>\n",
       "      <td>6</td>\n",
       "    </tr>\n",
       "    <tr>\n",
       "      <th>421</th>\n",
       "      <td>6.6</td>\n",
       "      <td>0.840</td>\n",
       "      <td>0.03</td>\n",
       "      <td>2.3</td>\n",
       "      <td>0.059</td>\n",
       "      <td>32.0</td>\n",
       "      <td>48.0</td>\n",
       "      <td>0.99520</td>\n",
       "      <td>3.52</td>\n",
       "      <td>0.56</td>\n",
       "      <td>12.3</td>\n",
       "      <td>7</td>\n",
       "    </tr>\n",
       "    <tr>\n",
       "      <th>1367</th>\n",
       "      <td>6.9</td>\n",
       "      <td>0.540</td>\n",
       "      <td>0.30</td>\n",
       "      <td>2.2</td>\n",
       "      <td>0.088</td>\n",
       "      <td>9.0</td>\n",
       "      <td>105.0</td>\n",
       "      <td>0.99725</td>\n",
       "      <td>3.25</td>\n",
       "      <td>1.18</td>\n",
       "      <td>10.5</td>\n",
       "      <td>6</td>\n",
       "    </tr>\n",
       "    <tr>\n",
       "      <th>992</th>\n",
       "      <td>6.5</td>\n",
       "      <td>0.400</td>\n",
       "      <td>0.10</td>\n",
       "      <td>2.0</td>\n",
       "      <td>0.076</td>\n",
       "      <td>30.0</td>\n",
       "      <td>47.0</td>\n",
       "      <td>0.99554</td>\n",
       "      <td>3.36</td>\n",
       "      <td>0.48</td>\n",
       "      <td>9.4</td>\n",
       "      <td>6</td>\n",
       "    </tr>\n",
       "    <tr>\n",
       "      <th>187</th>\n",
       "      <td>7.7</td>\n",
       "      <td>0.705</td>\n",
       "      <td>0.10</td>\n",
       "      <td>2.6</td>\n",
       "      <td>0.084</td>\n",
       "      <td>9.0</td>\n",
       "      <td>26.0</td>\n",
       "      <td>0.99760</td>\n",
       "      <td>3.39</td>\n",
       "      <td>0.49</td>\n",
       "      <td>9.7</td>\n",
       "      <td>5</td>\n",
       "    </tr>\n",
       "  </tbody>\n",
       "</table>\n",
       "<p>1599 rows × 12 columns</p>\n",
       "</div>"
      ],
      "text/plain": [
       "      fixed acidity  volatile acidity  citric acid  residual sugar  chlorides  \\\n",
       "834             8.8             0.685         0.26             1.6      0.088   \n",
       "1131            5.9             0.190         0.21             1.7      0.045   \n",
       "788            10.0             0.560         0.24             2.2      0.079   \n",
       "1422            7.0             0.540         0.00             2.1      0.079   \n",
       "426             6.4             0.670         0.08             2.1      0.045   \n",
       "...             ...               ...          ...             ...        ...   \n",
       "406             9.8             0.440         0.47             2.5      0.063   \n",
       "421             6.6             0.840         0.03             2.3      0.059   \n",
       "1367            6.9             0.540         0.30             2.2      0.088   \n",
       "992             6.5             0.400         0.10             2.0      0.076   \n",
       "187             7.7             0.705         0.10             2.6      0.084   \n",
       "\n",
       "      free sulfur dioxide  total sulfur dioxide  density    pH  sulphates  \\\n",
       "834                  16.0                  23.0  0.99694  3.32       0.47   \n",
       "1131                 57.0                 135.0  0.99341  3.32       0.44   \n",
       "788                  19.0                  58.0  0.99910  3.18       0.56   \n",
       "1422                 39.0                  55.0  0.99560  3.39       0.84   \n",
       "426                  19.0                  48.0  0.99490  3.49       0.49   \n",
       "...                   ...                   ...      ...   ...        ...   \n",
       "406                   9.0                  28.0  0.99810  3.24       0.65   \n",
       "421                  32.0                  48.0  0.99520  3.52       0.56   \n",
       "1367                  9.0                 105.0  0.99725  3.25       1.18   \n",
       "992                  30.0                  47.0  0.99554  3.36       0.48   \n",
       "187                   9.0                  26.0  0.99760  3.39       0.49   \n",
       "\n",
       "      alcohol  quality  \n",
       "834       9.4        5  \n",
       "1131      9.5        5  \n",
       "788      10.1        6  \n",
       "1422     11.4        6  \n",
       "426      11.4        6  \n",
       "...       ...      ...  \n",
       "406      10.8        6  \n",
       "421      12.3        7  \n",
       "1367     10.5        6  \n",
       "992       9.4        6  \n",
       "187       9.7        5  \n",
       "\n",
       "[1599 rows x 12 columns]"
      ]
     },
     "execution_count": 4,
     "metadata": {},
     "output_type": "execute_result"
    }
   ],
   "source": [
    "data = pd.read_csv(\"datasets/winequality-red.csv\", sep=\";\")\n",
    "data = shuffle(data)\n",
    "data"
   ]
  },
  {
   "cell_type": "code",
   "execution_count": 5,
   "id": "f810ea68",
   "metadata": {},
   "outputs": [
    {
     "name": "stdout",
     "output_type": "stream",
     "text": [
      "<class 'pandas.core.frame.DataFrame'>\n",
      "Int64Index: 1599 entries, 834 to 187\n",
      "Data columns (total 12 columns):\n",
      " #   Column                Non-Null Count  Dtype  \n",
      "---  ------                --------------  -----  \n",
      " 0   fixed acidity         1599 non-null   float64\n",
      " 1   volatile acidity      1599 non-null   float64\n",
      " 2   citric acid           1599 non-null   float64\n",
      " 3   residual sugar        1599 non-null   float64\n",
      " 4   chlorides             1599 non-null   float64\n",
      " 5   free sulfur dioxide   1599 non-null   float64\n",
      " 6   total sulfur dioxide  1599 non-null   float64\n",
      " 7   density               1599 non-null   float64\n",
      " 8   pH                    1599 non-null   float64\n",
      " 9   sulphates             1599 non-null   float64\n",
      " 10  alcohol               1599 non-null   float64\n",
      " 11  quality               1599 non-null   int64  \n",
      "dtypes: float64(11), int64(1)\n",
      "memory usage: 162.4 KB\n"
     ]
    }
   ],
   "source": [
    "data.info()"
   ]
  },
  {
   "cell_type": "code",
   "execution_count": 6,
   "id": "49bd98e4",
   "metadata": {},
   "outputs": [
    {
     "data": {
      "text/html": [
       "<div>\n",
       "<style scoped>\n",
       "    .dataframe tbody tr th:only-of-type {\n",
       "        vertical-align: middle;\n",
       "    }\n",
       "\n",
       "    .dataframe tbody tr th {\n",
       "        vertical-align: top;\n",
       "    }\n",
       "\n",
       "    .dataframe thead th {\n",
       "        text-align: right;\n",
       "    }\n",
       "</style>\n",
       "<table border=\"1\" class=\"dataframe\">\n",
       "  <thead>\n",
       "    <tr style=\"text-align: right;\">\n",
       "      <th></th>\n",
       "      <th>fixed acidity</th>\n",
       "      <th>volatile acidity</th>\n",
       "      <th>citric acid</th>\n",
       "      <th>residual sugar</th>\n",
       "      <th>chlorides</th>\n",
       "      <th>free sulfur dioxide</th>\n",
       "      <th>total sulfur dioxide</th>\n",
       "      <th>density</th>\n",
       "      <th>pH</th>\n",
       "      <th>sulphates</th>\n",
       "      <th>alcohol</th>\n",
       "    </tr>\n",
       "  </thead>\n",
       "  <tbody>\n",
       "    <tr>\n",
       "      <th>834</th>\n",
       "      <td>8.8</td>\n",
       "      <td>0.685</td>\n",
       "      <td>0.26</td>\n",
       "      <td>1.6</td>\n",
       "      <td>0.088</td>\n",
       "      <td>16.0</td>\n",
       "      <td>23.0</td>\n",
       "      <td>0.99694</td>\n",
       "      <td>3.32</td>\n",
       "      <td>0.47</td>\n",
       "      <td>9.4</td>\n",
       "    </tr>\n",
       "    <tr>\n",
       "      <th>1131</th>\n",
       "      <td>5.9</td>\n",
       "      <td>0.190</td>\n",
       "      <td>0.21</td>\n",
       "      <td>1.7</td>\n",
       "      <td>0.045</td>\n",
       "      <td>57.0</td>\n",
       "      <td>135.0</td>\n",
       "      <td>0.99341</td>\n",
       "      <td>3.32</td>\n",
       "      <td>0.44</td>\n",
       "      <td>9.5</td>\n",
       "    </tr>\n",
       "    <tr>\n",
       "      <th>788</th>\n",
       "      <td>10.0</td>\n",
       "      <td>0.560</td>\n",
       "      <td>0.24</td>\n",
       "      <td>2.2</td>\n",
       "      <td>0.079</td>\n",
       "      <td>19.0</td>\n",
       "      <td>58.0</td>\n",
       "      <td>0.99910</td>\n",
       "      <td>3.18</td>\n",
       "      <td>0.56</td>\n",
       "      <td>10.1</td>\n",
       "    </tr>\n",
       "    <tr>\n",
       "      <th>1422</th>\n",
       "      <td>7.0</td>\n",
       "      <td>0.540</td>\n",
       "      <td>0.00</td>\n",
       "      <td>2.1</td>\n",
       "      <td>0.079</td>\n",
       "      <td>39.0</td>\n",
       "      <td>55.0</td>\n",
       "      <td>0.99560</td>\n",
       "      <td>3.39</td>\n",
       "      <td>0.84</td>\n",
       "      <td>11.4</td>\n",
       "    </tr>\n",
       "    <tr>\n",
       "      <th>426</th>\n",
       "      <td>6.4</td>\n",
       "      <td>0.670</td>\n",
       "      <td>0.08</td>\n",
       "      <td>2.1</td>\n",
       "      <td>0.045</td>\n",
       "      <td>19.0</td>\n",
       "      <td>48.0</td>\n",
       "      <td>0.99490</td>\n",
       "      <td>3.49</td>\n",
       "      <td>0.49</td>\n",
       "      <td>11.4</td>\n",
       "    </tr>\n",
       "    <tr>\n",
       "      <th>...</th>\n",
       "      <td>...</td>\n",
       "      <td>...</td>\n",
       "      <td>...</td>\n",
       "      <td>...</td>\n",
       "      <td>...</td>\n",
       "      <td>...</td>\n",
       "      <td>...</td>\n",
       "      <td>...</td>\n",
       "      <td>...</td>\n",
       "      <td>...</td>\n",
       "      <td>...</td>\n",
       "    </tr>\n",
       "    <tr>\n",
       "      <th>406</th>\n",
       "      <td>9.8</td>\n",
       "      <td>0.440</td>\n",
       "      <td>0.47</td>\n",
       "      <td>2.5</td>\n",
       "      <td>0.063</td>\n",
       "      <td>9.0</td>\n",
       "      <td>28.0</td>\n",
       "      <td>0.99810</td>\n",
       "      <td>3.24</td>\n",
       "      <td>0.65</td>\n",
       "      <td>10.8</td>\n",
       "    </tr>\n",
       "    <tr>\n",
       "      <th>421</th>\n",
       "      <td>6.6</td>\n",
       "      <td>0.840</td>\n",
       "      <td>0.03</td>\n",
       "      <td>2.3</td>\n",
       "      <td>0.059</td>\n",
       "      <td>32.0</td>\n",
       "      <td>48.0</td>\n",
       "      <td>0.99520</td>\n",
       "      <td>3.52</td>\n",
       "      <td>0.56</td>\n",
       "      <td>12.3</td>\n",
       "    </tr>\n",
       "    <tr>\n",
       "      <th>1367</th>\n",
       "      <td>6.9</td>\n",
       "      <td>0.540</td>\n",
       "      <td>0.30</td>\n",
       "      <td>2.2</td>\n",
       "      <td>0.088</td>\n",
       "      <td>9.0</td>\n",
       "      <td>105.0</td>\n",
       "      <td>0.99725</td>\n",
       "      <td>3.25</td>\n",
       "      <td>1.18</td>\n",
       "      <td>10.5</td>\n",
       "    </tr>\n",
       "    <tr>\n",
       "      <th>992</th>\n",
       "      <td>6.5</td>\n",
       "      <td>0.400</td>\n",
       "      <td>0.10</td>\n",
       "      <td>2.0</td>\n",
       "      <td>0.076</td>\n",
       "      <td>30.0</td>\n",
       "      <td>47.0</td>\n",
       "      <td>0.99554</td>\n",
       "      <td>3.36</td>\n",
       "      <td>0.48</td>\n",
       "      <td>9.4</td>\n",
       "    </tr>\n",
       "    <tr>\n",
       "      <th>187</th>\n",
       "      <td>7.7</td>\n",
       "      <td>0.705</td>\n",
       "      <td>0.10</td>\n",
       "      <td>2.6</td>\n",
       "      <td>0.084</td>\n",
       "      <td>9.0</td>\n",
       "      <td>26.0</td>\n",
       "      <td>0.99760</td>\n",
       "      <td>3.39</td>\n",
       "      <td>0.49</td>\n",
       "      <td>9.7</td>\n",
       "    </tr>\n",
       "  </tbody>\n",
       "</table>\n",
       "<p>1599 rows × 11 columns</p>\n",
       "</div>"
      ],
      "text/plain": [
       "      fixed acidity  volatile acidity  citric acid  residual sugar  chlorides  \\\n",
       "834             8.8             0.685         0.26             1.6      0.088   \n",
       "1131            5.9             0.190         0.21             1.7      0.045   \n",
       "788            10.0             0.560         0.24             2.2      0.079   \n",
       "1422            7.0             0.540         0.00             2.1      0.079   \n",
       "426             6.4             0.670         0.08             2.1      0.045   \n",
       "...             ...               ...          ...             ...        ...   \n",
       "406             9.8             0.440         0.47             2.5      0.063   \n",
       "421             6.6             0.840         0.03             2.3      0.059   \n",
       "1367            6.9             0.540         0.30             2.2      0.088   \n",
       "992             6.5             0.400         0.10             2.0      0.076   \n",
       "187             7.7             0.705         0.10             2.6      0.084   \n",
       "\n",
       "      free sulfur dioxide  total sulfur dioxide  density    pH  sulphates  \\\n",
       "834                  16.0                  23.0  0.99694  3.32       0.47   \n",
       "1131                 57.0                 135.0  0.99341  3.32       0.44   \n",
       "788                  19.0                  58.0  0.99910  3.18       0.56   \n",
       "1422                 39.0                  55.0  0.99560  3.39       0.84   \n",
       "426                  19.0                  48.0  0.99490  3.49       0.49   \n",
       "...                   ...                   ...      ...   ...        ...   \n",
       "406                   9.0                  28.0  0.99810  3.24       0.65   \n",
       "421                  32.0                  48.0  0.99520  3.52       0.56   \n",
       "1367                  9.0                 105.0  0.99725  3.25       1.18   \n",
       "992                  30.0                  47.0  0.99554  3.36       0.48   \n",
       "187                   9.0                  26.0  0.99760  3.39       0.49   \n",
       "\n",
       "      alcohol  \n",
       "834       9.4  \n",
       "1131      9.5  \n",
       "788      10.1  \n",
       "1422     11.4  \n",
       "426      11.4  \n",
       "...       ...  \n",
       "406      10.8  \n",
       "421      12.3  \n",
       "1367     10.5  \n",
       "992       9.4  \n",
       "187       9.7  \n",
       "\n",
       "[1599 rows x 11 columns]"
      ]
     },
     "execution_count": 6,
     "metadata": {},
     "output_type": "execute_result"
    }
   ],
   "source": [
    "X = data.drop(columns=[\"quality\"])\n",
    "y = data[\"quality\"]\n",
    "X"
   ]
  },
  {
   "cell_type": "code",
   "execution_count": 7,
   "id": "d2677c25",
   "metadata": {},
   "outputs": [
    {
     "data": {
      "text/plain": [
       "834     5\n",
       "1131    5\n",
       "788     6\n",
       "1422    6\n",
       "426     6\n",
       "       ..\n",
       "406     6\n",
       "421     7\n",
       "1367    6\n",
       "992     6\n",
       "187     5\n",
       "Name: quality, Length: 1599, dtype: int64"
      ]
     },
     "execution_count": 7,
     "metadata": {},
     "output_type": "execute_result"
    }
   ],
   "source": [
    "y"
   ]
  },
  {
   "cell_type": "code",
   "execution_count": 8,
   "id": "4057c775",
   "metadata": {},
   "outputs": [],
   "source": [
    "data = scaler.fit_transform(X)"
   ]
  },
  {
   "cell_type": "code",
   "execution_count": 9,
   "id": "6663a164",
   "metadata": {},
   "outputs": [],
   "source": [
    "X_train, X_test, y_train, y_test = train_test_split(X,y, test_size=0.2, random_state=42)"
   ]
  },
  {
   "cell_type": "code",
   "execution_count": 10,
   "id": "ba07790c",
   "metadata": {},
   "outputs": [],
   "source": [
    "from sklearn.pipeline import FeatureUnion, Pipeline\n",
    "from sklearn import svm\n",
    "classifier = svm.LinearSVC(C=1.0, class_weight=\"balanced\")"
   ]
  },
  {
   "cell_type": "code",
   "execution_count": 11,
   "id": "aee657d0",
   "metadata": {},
   "outputs": [
    {
     "name": "stdout",
     "output_type": "stream",
     "text": [
      "              precision    recall  f1-score   support\n",
      "\n",
      "           3       0.00      0.00      0.00         1\n",
      "           4       0.00      0.00      0.00        13\n",
      "           5       0.56      0.40      0.46       129\n",
      "           6       0.46      0.77      0.58       137\n",
      "           7       0.00      0.00      0.00        38\n",
      "           8       0.00      0.00      0.00         2\n",
      "\n",
      "    accuracy                           0.49       320\n",
      "   macro avg       0.17      0.19      0.17       320\n",
      "weighted avg       0.42      0.49      0.43       320\n",
      "\n"
     ]
    }
   ],
   "source": [
    "# train the model on train set\n",
    "model = svm.SVC()\n",
    "model.fit(X_train, y_train)\n",
    "  \n",
    "# print prediction results\n",
    "predictions = model.predict(X_test)\n",
    "print(classification_report(y_test, predictions))"
   ]
  },
  {
   "cell_type": "code",
   "execution_count": 12,
   "id": "33bd4fae",
   "metadata": {},
   "outputs": [
    {
     "name": "stdout",
     "output_type": "stream",
     "text": [
      "              precision    recall  f1-score   support\n",
      "\n",
      "           3       0.00      0.00      0.00         1\n",
      "           4       0.25      0.08      0.12        13\n",
      "           5       0.72      0.22      0.34       129\n",
      "           6       0.49      0.84      0.62       137\n",
      "           7       0.54      0.37      0.44        38\n",
      "           8       0.00      0.00      0.00         2\n",
      "\n",
      "    accuracy                           0.50       320\n",
      "   macro avg       0.33      0.25      0.25       320\n",
      "weighted avg       0.58      0.50      0.46       320\n",
      "\n"
     ]
    }
   ],
   "source": [
    "# train the model on train set\n",
    "model = svm.LinearSVC(C=1.0, class_weight=\"balanced\")\n",
    "model.fit(X_train, y_train)\n",
    "  \n",
    "# print prediction results\n",
    "predictions = model.predict(X_test)\n",
    "print(classification_report(y_test, predictions))"
   ]
  },
  {
   "cell_type": "code",
   "execution_count": 13,
   "id": "98e61684",
   "metadata": {},
   "outputs": [
    {
     "name": "stdout",
     "output_type": "stream",
     "text": [
      "Fitting 5 folds for each of 25 candidates, totalling 125 fits\n",
      "[CV 1/5] END ........C=0.1, gamma=1, kernel=rbf;, score=0.434 total time=   0.2s\n",
      "[CV 2/5] END ........C=0.1, gamma=1, kernel=rbf;, score=0.434 total time=   0.2s\n",
      "[CV 3/5] END ........C=0.1, gamma=1, kernel=rbf;, score=0.430 total time=   0.2s\n",
      "[CV 4/5] END ........C=0.1, gamma=1, kernel=rbf;, score=0.430 total time=   0.2s\n",
      "[CV 5/5] END ........C=0.1, gamma=1, kernel=rbf;, score=0.431 total time=   0.2s\n",
      "[CV 1/5] END ......C=0.1, gamma=0.1, kernel=rbf;, score=0.434 total time=   0.1s\n",
      "[CV 2/5] END ......C=0.1, gamma=0.1, kernel=rbf;, score=0.434 total time=   0.1s\n",
      "[CV 3/5] END ......C=0.1, gamma=0.1, kernel=rbf;, score=0.430 total time=   0.1s\n",
      "[CV 4/5] END ......C=0.1, gamma=0.1, kernel=rbf;, score=0.434 total time=   0.1s\n",
      "[CV 5/5] END ......C=0.1, gamma=0.1, kernel=rbf;, score=0.431 total time=   0.1s\n",
      "[CV 1/5] END .....C=0.1, gamma=0.01, kernel=rbf;, score=0.520 total time=   0.1s\n",
      "[CV 2/5] END .....C=0.1, gamma=0.01, kernel=rbf;, score=0.523 total time=   0.1s\n",
      "[CV 3/5] END .....C=0.1, gamma=0.01, kernel=rbf;, score=0.480 total time=   0.1s\n",
      "[CV 4/5] END .....C=0.1, gamma=0.01, kernel=rbf;, score=0.449 total time=   0.1s\n",
      "[CV 5/5] END .....C=0.1, gamma=0.01, kernel=rbf;, score=0.486 total time=   0.1s\n",
      "[CV 1/5] END ....C=0.1, gamma=0.001, kernel=rbf;, score=0.484 total time=   0.1s\n",
      "[CV 2/5] END ....C=0.1, gamma=0.001, kernel=rbf;, score=0.520 total time=   0.1s\n",
      "[CV 3/5] END ....C=0.1, gamma=0.001, kernel=rbf;, score=0.535 total time=   0.1s\n",
      "[CV 4/5] END ....C=0.1, gamma=0.001, kernel=rbf;, score=0.461 total time=   0.1s\n",
      "[CV 5/5] END ....C=0.1, gamma=0.001, kernel=rbf;, score=0.482 total time=   0.1s\n",
      "[CV 1/5] END ...C=0.1, gamma=0.0001, kernel=rbf;, score=0.473 total time=   0.1s\n",
      "[CV 2/5] END ...C=0.1, gamma=0.0001, kernel=rbf;, score=0.520 total time=   0.1s\n",
      "[CV 3/5] END ...C=0.1, gamma=0.0001, kernel=rbf;, score=0.520 total time=   0.1s\n",
      "[CV 4/5] END ...C=0.1, gamma=0.0001, kernel=rbf;, score=0.469 total time=   0.1s\n",
      "[CV 5/5] END ...C=0.1, gamma=0.0001, kernel=rbf;, score=0.482 total time=   0.1s\n",
      "[CV 1/5] END ..........C=1, gamma=1, kernel=rbf;, score=0.535 total time=   0.3s\n",
      "[CV 2/5] END ..........C=1, gamma=1, kernel=rbf;, score=0.504 total time=   0.2s\n",
      "[CV 3/5] END ..........C=1, gamma=1, kernel=rbf;, score=0.543 total time=   0.2s\n",
      "[CV 4/5] END ..........C=1, gamma=1, kernel=rbf;, score=0.551 total time=   0.2s\n",
      "[CV 5/5] END ..........C=1, gamma=1, kernel=rbf;, score=0.525 total time=   0.2s\n",
      "[CV 1/5] END ........C=1, gamma=0.1, kernel=rbf;, score=0.535 total time=   0.1s\n",
      "[CV 2/5] END ........C=1, gamma=0.1, kernel=rbf;, score=0.582 total time=   0.3s\n",
      "[CV 3/5] END ........C=1, gamma=0.1, kernel=rbf;, score=0.555 total time=   0.2s\n",
      "[CV 4/5] END ........C=1, gamma=0.1, kernel=rbf;, score=0.539 total time=   0.2s\n",
      "[CV 5/5] END ........C=1, gamma=0.1, kernel=rbf;, score=0.592 total time=   0.1s\n",
      "[CV 1/5] END .......C=1, gamma=0.01, kernel=rbf;, score=0.523 total time=   0.1s\n",
      "[CV 2/5] END .......C=1, gamma=0.01, kernel=rbf;, score=0.570 total time=   0.1s\n",
      "[CV 3/5] END .......C=1, gamma=0.01, kernel=rbf;, score=0.516 total time=   0.1s\n",
      "[CV 4/5] END .......C=1, gamma=0.01, kernel=rbf;, score=0.512 total time=   0.1s\n",
      "[CV 5/5] END .......C=1, gamma=0.01, kernel=rbf;, score=0.541 total time=   0.1s\n",
      "[CV 1/5] END ......C=1, gamma=0.001, kernel=rbf;, score=0.512 total time=   0.1s\n",
      "[CV 2/5] END ......C=1, gamma=0.001, kernel=rbf;, score=0.531 total time=   0.1s\n",
      "[CV 3/5] END ......C=1, gamma=0.001, kernel=rbf;, score=0.508 total time=   0.1s\n",
      "[CV 4/5] END ......C=1, gamma=0.001, kernel=rbf;, score=0.473 total time=   0.1s\n",
      "[CV 5/5] END ......C=1, gamma=0.001, kernel=rbf;, score=0.486 total time=   0.1s\n",
      "[CV 1/5] END .....C=1, gamma=0.0001, kernel=rbf;, score=0.492 total time=   0.1s\n",
      "[CV 2/5] END .....C=1, gamma=0.0001, kernel=rbf;, score=0.523 total time=   0.1s\n",
      "[CV 3/5] END .....C=1, gamma=0.0001, kernel=rbf;, score=0.531 total time=   0.1s\n",
      "[CV 4/5] END .....C=1, gamma=0.0001, kernel=rbf;, score=0.469 total time=   0.1s\n",
      "[CV 5/5] END .....C=1, gamma=0.0001, kernel=rbf;, score=0.494 total time=   0.1s\n",
      "[CV 1/5] END .........C=10, gamma=1, kernel=rbf;, score=0.555 total time=   0.3s\n",
      "[CV 2/5] END .........C=10, gamma=1, kernel=rbf;, score=0.523 total time=   0.2s\n",
      "[CV 3/5] END .........C=10, gamma=1, kernel=rbf;, score=0.551 total time=   0.2s\n",
      "[CV 4/5] END .........C=10, gamma=1, kernel=rbf;, score=0.531 total time=   0.2s\n",
      "[CV 5/5] END .........C=10, gamma=1, kernel=rbf;, score=0.533 total time=   0.2s\n",
      "[CV 1/5] END .......C=10, gamma=0.1, kernel=rbf;, score=0.523 total time=   0.2s\n",
      "[CV 2/5] END .......C=10, gamma=0.1, kernel=rbf;, score=0.574 total time=   0.2s\n",
      "[CV 3/5] END .......C=10, gamma=0.1, kernel=rbf;, score=0.500 total time=   0.2s\n",
      "[CV 4/5] END .......C=10, gamma=0.1, kernel=rbf;, score=0.523 total time=   0.2s\n",
      "[CV 5/5] END .......C=10, gamma=0.1, kernel=rbf;, score=0.565 total time=   0.2s\n",
      "[CV 1/5] END ......C=10, gamma=0.01, kernel=rbf;, score=0.535 total time=   0.1s\n",
      "[CV 2/5] END ......C=10, gamma=0.01, kernel=rbf;, score=0.590 total time=   0.1s\n",
      "[CV 3/5] END ......C=10, gamma=0.01, kernel=rbf;, score=0.547 total time=   0.1s\n",
      "[CV 4/5] END ......C=10, gamma=0.01, kernel=rbf;, score=0.551 total time=   0.1s\n",
      "[CV 5/5] END ......C=10, gamma=0.01, kernel=rbf;, score=0.596 total time=   0.1s\n",
      "[CV 1/5] END .....C=10, gamma=0.001, kernel=rbf;, score=0.582 total time=   0.1s\n",
      "[CV 2/5] END .....C=10, gamma=0.001, kernel=rbf;, score=0.574 total time=   0.1s\n",
      "[CV 3/5] END .....C=10, gamma=0.001, kernel=rbf;, score=0.531 total time=   0.1s\n",
      "[CV 4/5] END .....C=10, gamma=0.001, kernel=rbf;, score=0.520 total time=   0.1s\n",
      "[CV 5/5] END .....C=10, gamma=0.001, kernel=rbf;, score=0.596 total time=   0.1s\n",
      "[CV 1/5] END ....C=10, gamma=0.0001, kernel=rbf;, score=0.531 total time=   0.1s\n",
      "[CV 2/5] END ....C=10, gamma=0.0001, kernel=rbf;, score=0.547 total time=   0.2s\n",
      "[CV 3/5] END ....C=10, gamma=0.0001, kernel=rbf;, score=0.531 total time=   0.1s\n",
      "[CV 4/5] END ....C=10, gamma=0.0001, kernel=rbf;, score=0.473 total time=   0.1s\n",
      "[CV 5/5] END ....C=10, gamma=0.0001, kernel=rbf;, score=0.525 total time=   0.1s\n",
      "[CV 1/5] END ........C=100, gamma=1, kernel=rbf;, score=0.555 total time=   0.2s\n",
      "[CV 2/5] END ........C=100, gamma=1, kernel=rbf;, score=0.523 total time=   0.2s\n",
      "[CV 3/5] END ........C=100, gamma=1, kernel=rbf;, score=0.555 total time=   0.2s\n",
      "[CV 4/5] END ........C=100, gamma=1, kernel=rbf;, score=0.531 total time=   0.3s\n",
      "[CV 5/5] END ........C=100, gamma=1, kernel=rbf;, score=0.533 total time=   0.2s\n",
      "[CV 1/5] END ......C=100, gamma=0.1, kernel=rbf;, score=0.559 total time=   0.3s\n",
      "[CV 2/5] END ......C=100, gamma=0.1, kernel=rbf;, score=0.562 total time=   0.2s\n",
      "[CV 3/5] END ......C=100, gamma=0.1, kernel=rbf;, score=0.512 total time=   0.2s\n",
      "[CV 4/5] END ......C=100, gamma=0.1, kernel=rbf;, score=0.562 total time=   0.2s\n",
      "[CV 5/5] END ......C=100, gamma=0.1, kernel=rbf;, score=0.545 total time=   0.2s\n",
      "[CV 1/5] END .....C=100, gamma=0.01, kernel=rbf;, score=0.559 total time=   0.4s\n",
      "[CV 2/5] END .....C=100, gamma=0.01, kernel=rbf;, score=0.559 total time=   0.3s\n",
      "[CV 3/5] END .....C=100, gamma=0.01, kernel=rbf;, score=0.531 total time=   0.3s\n",
      "[CV 4/5] END .....C=100, gamma=0.01, kernel=rbf;, score=0.531 total time=   0.2s\n",
      "[CV 5/5] END .....C=100, gamma=0.01, kernel=rbf;, score=0.580 total time=   0.2s\n",
      "[CV 1/5] END ....C=100, gamma=0.001, kernel=rbf;, score=0.551 total time=   0.2s\n",
      "[CV 2/5] END ....C=100, gamma=0.001, kernel=rbf;, score=0.609 total time=   0.1s\n",
      "[CV 3/5] END ....C=100, gamma=0.001, kernel=rbf;, score=0.562 total time=   0.1s\n",
      "[CV 4/5] END ....C=100, gamma=0.001, kernel=rbf;, score=0.539 total time=   0.4s\n",
      "[CV 5/5] END ....C=100, gamma=0.001, kernel=rbf;, score=0.604 total time=   0.2s\n",
      "[CV 1/5] END ...C=100, gamma=0.0001, kernel=rbf;, score=0.578 total time=   0.2s\n",
      "[CV 2/5] END ...C=100, gamma=0.0001, kernel=rbf;, score=0.586 total time=   0.6s\n",
      "[CV 3/5] END ...C=100, gamma=0.0001, kernel=rbf;, score=0.535 total time=   0.4s\n",
      "[CV 4/5] END ...C=100, gamma=0.0001, kernel=rbf;, score=0.562 total time=   0.7s\n",
      "[CV 5/5] END ...C=100, gamma=0.0001, kernel=rbf;, score=0.588 total time=   0.5s\n",
      "[CV 1/5] END .......C=1000, gamma=1, kernel=rbf;, score=0.555 total time=   0.5s\n"
     ]
    },
    {
     "name": "stdout",
     "output_type": "stream",
     "text": [
      "[CV 2/5] END .......C=1000, gamma=1, kernel=rbf;, score=0.523 total time=   0.5s\n",
      "[CV 3/5] END .......C=1000, gamma=1, kernel=rbf;, score=0.555 total time=   0.2s\n",
      "[CV 4/5] END .......C=1000, gamma=1, kernel=rbf;, score=0.531 total time=   0.7s\n",
      "[CV 5/5] END .......C=1000, gamma=1, kernel=rbf;, score=0.533 total time=   1.0s\n",
      "[CV 1/5] END .....C=1000, gamma=0.1, kernel=rbf;, score=0.562 total time=   0.7s\n",
      "[CV 2/5] END .....C=1000, gamma=0.1, kernel=rbf;, score=0.562 total time=   0.2s\n",
      "[CV 3/5] END .....C=1000, gamma=0.1, kernel=rbf;, score=0.516 total time=   0.2s\n",
      "[CV 4/5] END .....C=1000, gamma=0.1, kernel=rbf;, score=0.570 total time=   0.2s\n",
      "[CV 5/5] END .....C=1000, gamma=0.1, kernel=rbf;, score=0.549 total time=   0.2s\n",
      "[CV 1/5] END ....C=1000, gamma=0.01, kernel=rbf;, score=0.555 total time=   0.6s\n",
      "[CV 2/5] END ....C=1000, gamma=0.01, kernel=rbf;, score=0.586 total time=   0.5s\n",
      "[CV 3/5] END ....C=1000, gamma=0.01, kernel=rbf;, score=0.543 total time=   0.5s\n",
      "[CV 4/5] END ....C=1000, gamma=0.01, kernel=rbf;, score=0.523 total time=   0.5s\n",
      "[CV 5/5] END ....C=1000, gamma=0.01, kernel=rbf;, score=0.533 total time=   0.6s\n",
      "[CV 1/5] END ...C=1000, gamma=0.001, kernel=rbf;, score=0.570 total time=   0.3s\n",
      "[CV 2/5] END ...C=1000, gamma=0.001, kernel=rbf;, score=0.668 total time=   0.4s\n",
      "[CV 3/5] END ...C=1000, gamma=0.001, kernel=rbf;, score=0.559 total time=   0.4s\n",
      "[CV 4/5] END ...C=1000, gamma=0.001, kernel=rbf;, score=0.574 total time=   0.4s\n",
      "[CV 5/5] END ...C=1000, gamma=0.001, kernel=rbf;, score=0.600 total time=   0.4s\n",
      "[CV 1/5] END ..C=1000, gamma=0.0001, kernel=rbf;, score=0.566 total time=   0.2s\n",
      "[CV 2/5] END ..C=1000, gamma=0.0001, kernel=rbf;, score=0.609 total time=   0.2s\n",
      "[CV 3/5] END ..C=1000, gamma=0.0001, kernel=rbf;, score=0.551 total time=   0.2s\n",
      "[CV 4/5] END ..C=1000, gamma=0.0001, kernel=rbf;, score=0.566 total time=   0.3s\n",
      "[CV 5/5] END ..C=1000, gamma=0.0001, kernel=rbf;, score=0.588 total time=   0.3s\n"
     ]
    },
    {
     "data": {
      "text/plain": [
       "GridSearchCV(estimator=SVC(),\n",
       "             param_grid={'C': [0.1, 1, 10, 100, 1000],\n",
       "                         'gamma': [1, 0.1, 0.01, 0.001, 0.0001],\n",
       "                         'kernel': ['rbf']},\n",
       "             verbose=3)"
      ]
     },
     "execution_count": 13,
     "metadata": {},
     "output_type": "execute_result"
    }
   ],
   "source": [
    "from sklearn.model_selection import GridSearchCV\n",
    "  \n",
    "# defining parameter range\n",
    "param_grid = {'C': [0.1, 1, 10, 100, 1000], \n",
    "              'gamma': [1, 0.1, 0.01, 0.001, 0.0001],\n",
    "              'kernel': ['rbf']} \n",
    "  \n",
    "grid = GridSearchCV(SVC(), param_grid, refit = True, verbose = 3)\n",
    "  \n",
    "# fitting the model for grid search\n",
    "grid.fit(X_train, y_train)"
   ]
  },
  {
   "cell_type": "code",
   "execution_count": 14,
   "id": "b957aed2",
   "metadata": {},
   "outputs": [
    {
     "data": {
      "text/plain": [
       "{'C': 1000, 'gamma': 0.001, 'kernel': 'rbf'}"
      ]
     },
     "execution_count": 14,
     "metadata": {},
     "output_type": "execute_result"
    }
   ],
   "source": [
    "grid.best_params_"
   ]
  },
  {
   "cell_type": "code",
   "execution_count": 15,
   "id": "f687dffd",
   "metadata": {},
   "outputs": [
    {
     "data": {
      "text/plain": [
       "SVC(C=1000, gamma=0.001)"
      ]
     },
     "execution_count": 15,
     "metadata": {},
     "output_type": "execute_result"
    }
   ],
   "source": [
    "grid.best_estimator_"
   ]
  },
  {
   "cell_type": "code",
   "execution_count": 16,
   "id": "190763cc",
   "metadata": {},
   "outputs": [
    {
     "name": "stdout",
     "output_type": "stream",
     "text": [
      "              precision    recall  f1-score   support\n",
      "\n",
      "           3       0.00      0.00      0.00         1\n",
      "           4       0.00      0.00      0.00        13\n",
      "           5       0.65      0.76      0.70       129\n",
      "           6       0.62      0.64      0.63       137\n",
      "           7       0.62      0.34      0.44        38\n",
      "           8       0.00      0.00      0.00         2\n",
      "\n",
      "    accuracy                           0.62       320\n",
      "   macro avg       0.31      0.29      0.29       320\n",
      "weighted avg       0.60      0.62      0.60       320\n",
      "\n"
     ]
    }
   ],
   "source": [
    "# train the model on train set\n",
    "model = svm.SVC(C=1000, gamma=0.001, kernel='rbf')\n",
    "model.fit(X_train, y_train,)\n",
    "  \n",
    "# print prediction results\n",
    "predictions = model.predict(X_test)\n",
    "print(classification_report(y_test, predictions))"
   ]
  },
  {
   "cell_type": "code",
   "execution_count": 17,
   "id": "5f8a9e3f",
   "metadata": {},
   "outputs": [
    {
     "data": {
      "image/png": "[encoded data removed]",
      "text/plain": [
       "<Figure size 432x288 with 2 Axes>"
      ]
     },
     "metadata": {
      "needs_background": "light"
     },
     "output_type": "display_data"
    }
   ],
   "source": [
    "from sklearn.metrics import classification_report, confusion_matrix\n",
    "from sklearn.metrics import plot_confusion_matrix, plot_precision_recall_curve # recall curve icin binary classifier gerekli\n",
    "\n",
    "plot_confusion_matrix(model, X_test, y_test, cmap='binary')\n",
    "plt.show()"
   ]
  },
  {
   "cell_type": "code",
   "execution_count": null,
   "id": "618bbe4a",
   "metadata": {},
   "outputs": [],
   "source": []
  },
  {
   "cell_type": "markdown",
   "id": "e9ce8841",
   "metadata": {},
   "source": [
    "# DECISON TREE CLASSIFIRER GRIDCV"
   ]
  },
  {
   "cell_type": "code",
   "execution_count": 18,
   "id": "8b307d04",
   "metadata": {},
   "outputs": [
    {
     "name": "stdout",
     "output_type": "stream",
     "text": [
      "              precision    recall  f1-score   support\n",
      "\n",
      "           3       0.00      0.00      0.00         1\n",
      "           4       0.10      0.08      0.09        13\n",
      "           5       0.67      0.71      0.69       129\n",
      "           6       0.67      0.63      0.65       137\n",
      "           7       0.51      0.55      0.53        38\n",
      "           8       0.00      0.00      0.00         2\n",
      "\n",
      "    accuracy                           0.62       320\n",
      "   macro avg       0.33      0.33      0.33       320\n",
      "weighted avg       0.62      0.62      0.62       320\n",
      "\n"
     ]
    }
   ],
   "source": [
    "from sklearn.tree import DecisionTreeClassifier\n",
    "dt = DecisionTreeClassifier()\n",
    "dt.fit(X_train,y_train)\n",
    "\n",
    "# print prediction results\n",
    "predictions = dt.predict(X_test)\n",
    "print(classification_report(y_test, predictions))"
   ]
  },
  {
   "cell_type": "code",
   "execution_count": 19,
   "id": "509f807a",
   "metadata": {
    "scrolled": true
   },
   "outputs": [
    {
     "name": "stdout",
     "output_type": "stream",
     "text": [
      "Fitting 5 folds for each of 294 candidates, totalling 1470 fits\n"
     ]
    },
    {
     "data": {
      "text/plain": [
       "GridSearchCV(estimator=DecisionTreeClassifier(random_state=42),\n",
       "             param_grid={'max_leaf_nodes': [2, 3, 4, 5, 6, 7, 8, 9, 10, 11, 12,\n",
       "                                            13, 14, 15, 16, 17, 18, 19, 20, 21,\n",
       "                                            22, 23, 24, 25, 26, 27, 28, 29, 30,\n",
       "                                            31, ...],\n",
       "                         'min_samples_split': [2, 3, 4]},\n",
       "             verbose=1)"
      ]
     },
     "execution_count": 19,
     "metadata": {},
     "output_type": "execute_result"
    }
   ],
   "source": [
    "params = {'max_leaf_nodes': list(range(2, 100)), 'min_samples_split': [2, 3, 4]}\n",
    "grid_dt = GridSearchCV(DecisionTreeClassifier(random_state=42), params, verbose=1)\n",
    "grid_dt.fit(X_train,y_train)"
   ]
  },
  {
   "cell_type": "code",
   "execution_count": 20,
   "id": "4af32972",
   "metadata": {},
   "outputs": [
    {
     "data": {
      "text/plain": [
       "{'max_leaf_nodes': 46, 'min_samples_split': 2}"
      ]
     },
     "execution_count": 20,
     "metadata": {},
     "output_type": "execute_result"
    }
   ],
   "source": [
    "grid_dt.best_params_"
   ]
  },
  {
   "cell_type": "code",
   "execution_count": 21,
   "id": "a2eef1c7",
   "metadata": {},
   "outputs": [
    {
     "data": {
      "text/plain": [
       "DecisionTreeClassifier(max_leaf_nodes=46, random_state=42)"
      ]
     },
     "execution_count": 21,
     "metadata": {},
     "output_type": "execute_result"
    }
   ],
   "source": [
    "grid_dt.best_estimator_"
   ]
  },
  {
   "cell_type": "code",
   "execution_count": 22,
   "id": "07e8b764",
   "metadata": {},
   "outputs": [
    {
     "name": "stdout",
     "output_type": "stream",
     "text": [
      "Accuracy :  55.625\n",
      "              precision    recall  f1-score   support\n",
      "\n",
      "           3       0.00      0.00      0.00         1\n",
      "           4       0.00      0.00      0.00        13\n",
      "           5       0.57      0.86      0.68       129\n",
      "           6       0.57      0.39      0.46       137\n",
      "           7       0.45      0.37      0.41        38\n",
      "           8       0.00      0.00      0.00         2\n",
      "\n",
      "    accuracy                           0.56       320\n",
      "   macro avg       0.26      0.27      0.26       320\n",
      "weighted avg       0.53      0.56      0.52       320\n",
      "\n"
     ]
    }
   ],
   "source": [
    "gridCdt = DecisionTreeClassifier(max_leaf_nodes=16, min_samples_split=2, splitter='random', random_state=42)\n",
    "gridCdt.fit(X_train,y_train)\n",
    "\n",
    "# print scores\n",
    "acc = gridCdt.score(X_test,y_test)\n",
    "print(\"Accuracy : \" , 100 * acc)\n",
    "predics = gridCdt.predict(X_test)\n",
    "print(classification_report(y_test, predics))"
   ]
  },
  {
   "cell_type": "code",
   "execution_count": 23,
   "id": "b53538f8",
   "metadata": {},
   "outputs": [
    {
     "name": "stdout",
     "output_type": "stream",
     "text": [
      "Accuracy: 63.125\n",
      "              precision    recall  f1-score   support\n",
      "\n",
      "           3       0.00      0.00      0.00         1\n",
      "           4       0.08      0.08      0.08        13\n",
      "           5       0.69      0.71      0.70       129\n",
      "           6       0.67      0.66      0.66       137\n",
      "           7       0.54      0.53      0.53        38\n",
      "           8       0.00      0.00      0.00         2\n",
      "\n",
      "    accuracy                           0.63       320\n",
      "   macro avg       0.33      0.33      0.33       320\n",
      "weighted avg       0.63      0.63      0.63       320\n",
      "\n",
      "\n"
     ]
    },
    {
     "data": {
      "image/png": "[encoded data removed]",
      "text/plain": [
       "<Figure size 432x288 with 2 Axes>"
      ]
     },
     "metadata": {
      "needs_background": "light"
     },
     "output_type": "display_data"
    }
   ],
   "source": [
    "dt=DecisionTreeClassifier()\n",
    "\n",
    "#train\n",
    "dt.fit(X_train, y_train)\n",
    "y_pred=dt.predict(X_test)\n",
    "\n",
    "a = dt.score(X_test, y_test)\n",
    "\n",
    "print(\"Accuracy:\", a * 100)\n",
    "print(classification_report(y_test, y_pred))\n",
    "\n",
    "print()\n",
    "\n",
    "cm_aaa = confusion_matrix(y_test, y_pred)\n",
    "\n",
    "plot_confusion_matrix(dt, X_test, y_test, cmap='binary')\n",
    "plt.show()"
   ]
  },
  {
   "cell_type": "code",
   "execution_count": null,
   "id": "c3b132c4",
   "metadata": {},
   "outputs": [],
   "source": []
  },
  {
   "cell_type": "code",
   "execution_count": 24,
   "id": "f10b33eb",
   "metadata": {},
   "outputs": [],
   "source": [
    "# checkout other notebook to see explanations about these common machine learning process\n",
    "# this notebook has not commented out "
   ]
  },
  {
   "cell_type": "code",
   "execution_count": 25,
   "id": "1971bc49",
   "metadata": {},
   "outputs": [],
   "source": [
    "# Enes Çavuş - Understanding Grid "
   ]
  },
  {
   "cell_type": "code",
   "execution_count": null,
   "id": "cdb8fa4d",
   "metadata": {},
   "outputs": [],
   "source": []
  }
 ],
 "metadata": {
  "kernelspec": {
   "display_name": "Python 3 (ipykernel)",
   "language": "python",
   "name": "python3"
  },
  "language_info": {
   "codemirror_mode": {
    "name": "ipython",
    "version": 3
   },
   "file_extension": ".py",
   "mimetype": "text/x-python",
   "name": "python",
   "nbconvert_exporter": "python",
   "pygments_lexer": "ipython3",
   "version": "3.8.1"
  }
 },
 "nbformat": 4,
 "nbformat_minor": 5
}
