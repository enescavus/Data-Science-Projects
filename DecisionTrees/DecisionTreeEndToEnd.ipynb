{
 "cells": [
  {
   "cell_type": "code",
   "execution_count": 1,
   "id": "0f4aec0a",
   "metadata": {},
   "outputs": [],
   "source": [
    "# author     : Enes Çavuş\n",
    "# date       : July 2021\n",
    "# subject    : Data Preprocessing and Applying Decision Tree Machine Lerning Algorithms"
   ]
  },
  {
   "cell_type": "markdown",
   "id": "f1863cb3",
   "metadata": {},
   "source": [
    "---\n",
    "\n",
    "    - This code mainly aiming to understand preprocessing \n",
    "    - Discovering the data and handling with missing data\n",
    "    - Understanding of data types and type conversions\n",
    "    - Making an easy and understandable machine learning model\n",
    "    - Seeing how decison tree works\n",
    "\n",
    "---\n"
   ]
  },
  {
   "cell_type": "code",
   "execution_count": 2,
   "id": "ddf4188c",
   "metadata": {},
   "outputs": [],
   "source": [
    "# common libnraries import\n",
    "import numpy as np\n",
    "import pandas as pd\n",
    "import matplotlib.pyplot as plt"
   ]
  },
  {
   "cell_type": "code",
   "execution_count": 3,
   "id": "e40274b3",
   "metadata": {},
   "outputs": [],
   "source": [
    "# ml preprocessing and model building modules\n",
    "from sklearn.model_selection import train_test_split, cross_val_score\n",
    "from sklearn.tree import DecisionTreeClassifier, plot_tree\n",
    "from sklearn.metrics import confusion_matrix, plot_confusion_matrix, accuracy_score, classification_report"
   ]
  },
  {
   "cell_type": "code",
   "execution_count": 4,
   "id": "0cb32159",
   "metadata": {},
   "outputs": [
    {
     "data": {
      "text/html": [
       "<div>\n",
       "<style scoped>\n",
       "    .dataframe tbody tr th:only-of-type {\n",
       "        vertical-align: middle;\n",
       "    }\n",
       "\n",
       "    .dataframe tbody tr th {\n",
       "        vertical-align: top;\n",
       "    }\n",
       "\n",
       "    .dataframe thead th {\n",
       "        text-align: right;\n",
       "    }\n",
       "</style>\n",
       "<table border=\"1\" class=\"dataframe\">\n",
       "  <thead>\n",
       "    <tr style=\"text-align: right;\">\n",
       "      <th></th>\n",
       "      <th>age</th>\n",
       "      <th>sex</th>\n",
       "      <th>chestpain</th>\n",
       "      <th>bps</th>\n",
       "      <th>cholestrol</th>\n",
       "      <th>fbs</th>\n",
       "      <th>restecg</th>\n",
       "      <th>thalach</th>\n",
       "      <th>exang</th>\n",
       "      <th>oldpeak</th>\n",
       "      <th>slope</th>\n",
       "      <th>ca</th>\n",
       "      <th>thal</th>\n",
       "      <th>prediction</th>\n",
       "    </tr>\n",
       "  </thead>\n",
       "  <tbody>\n",
       "    <tr>\n",
       "      <th>0</th>\n",
       "      <td>32</td>\n",
       "      <td>1</td>\n",
       "      <td>1</td>\n",
       "      <td>95</td>\n",
       "      <td>0</td>\n",
       "      <td>?</td>\n",
       "      <td>0</td>\n",
       "      <td>127</td>\n",
       "      <td>0</td>\n",
       "      <td>.7</td>\n",
       "      <td>1</td>\n",
       "      <td>?</td>\n",
       "      <td>?</td>\n",
       "      <td>1</td>\n",
       "    </tr>\n",
       "    <tr>\n",
       "      <th>1</th>\n",
       "      <td>34</td>\n",
       "      <td>1</td>\n",
       "      <td>4</td>\n",
       "      <td>115</td>\n",
       "      <td>0</td>\n",
       "      <td>?</td>\n",
       "      <td>?</td>\n",
       "      <td>154</td>\n",
       "      <td>0</td>\n",
       "      <td>.2</td>\n",
       "      <td>1</td>\n",
       "      <td>?</td>\n",
       "      <td>?</td>\n",
       "      <td>1</td>\n",
       "    </tr>\n",
       "    <tr>\n",
       "      <th>2</th>\n",
       "      <td>35</td>\n",
       "      <td>1</td>\n",
       "      <td>4</td>\n",
       "      <td>?</td>\n",
       "      <td>0</td>\n",
       "      <td>?</td>\n",
       "      <td>0</td>\n",
       "      <td>130</td>\n",
       "      <td>1</td>\n",
       "      <td>?</td>\n",
       "      <td>?</td>\n",
       "      <td>?</td>\n",
       "      <td>7</td>\n",
       "      <td>3</td>\n",
       "    </tr>\n",
       "    <tr>\n",
       "      <th>3</th>\n",
       "      <td>36</td>\n",
       "      <td>1</td>\n",
       "      <td>4</td>\n",
       "      <td>110</td>\n",
       "      <td>0</td>\n",
       "      <td>?</td>\n",
       "      <td>0</td>\n",
       "      <td>125</td>\n",
       "      <td>1</td>\n",
       "      <td>1</td>\n",
       "      <td>2</td>\n",
       "      <td>?</td>\n",
       "      <td>6</td>\n",
       "      <td>1</td>\n",
       "    </tr>\n",
       "    <tr>\n",
       "      <th>4</th>\n",
       "      <td>38</td>\n",
       "      <td>0</td>\n",
       "      <td>4</td>\n",
       "      <td>105</td>\n",
       "      <td>0</td>\n",
       "      <td>?</td>\n",
       "      <td>0</td>\n",
       "      <td>166</td>\n",
       "      <td>0</td>\n",
       "      <td>2.8</td>\n",
       "      <td>1</td>\n",
       "      <td>?</td>\n",
       "      <td>?</td>\n",
       "      <td>2</td>\n",
       "    </tr>\n",
       "  </tbody>\n",
       "</table>\n",
       "</div>"
      ],
      "text/plain": [
       "   age  sex  chestpain  bps  cholestrol fbs restecg thalach exang oldpeak  \\\n",
       "0   32    1          1   95           0   ?       0     127     0      .7   \n",
       "1   34    1          4  115           0   ?       ?     154     0      .2   \n",
       "2   35    1          4    ?           0   ?       0     130     1       ?   \n",
       "3   36    1          4  110           0   ?       0     125     1       1   \n",
       "4   38    0          4  105           0   ?       0     166     0     2.8   \n",
       "\n",
       "  slope ca thal  prediction  \n",
       "0     1  ?    ?           1  \n",
       "1     1  ?    ?           1  \n",
       "2     ?  ?    7           3  \n",
       "3     2  ?    6           1  \n",
       "4     1  ?    ?           2  "
      ]
     },
     "execution_count": 4,
     "metadata": {},
     "output_type": "execute_result"
    }
   ],
   "source": [
    "# loading data - readable and easy to manipulate\n",
    "# renaming - preprocessing\n",
    "df = pd.read_csv(\"datasets/processed.switzerland.data\",\n",
    "                 sep=',',\n",
    "                 header=None,\n",
    "                 names = ['age','sex','chestpain','bps','cholestrol','fbs','restecg','thalach','exang','oldpeak','slope','ca','thal','prediction']\n",
    "                ) # header yok, sutun ismini ben verecegim\n",
    "# detail infor about the dataset\n",
    "# https://archive.ics.uci.edu/ml/datasets/heart+disease\n",
    "df.head()"
   ]
  },
  {
   "cell_type": "code",
   "execution_count": 5,
   "id": "2552c708",
   "metadata": {},
   "outputs": [
    {
     "name": "stdout",
     "output_type": "stream",
     "text": [
      "[32 34 35 36 38 40 41 42 43 45 46 47 48 50 51 52 53 54 55 56 57 58 59 60\n",
      " 61 62 63 64 65 66 67 68 69 70 72 73 74]\n",
      "[1 0]\n",
      "[1 4 3 2]\n",
      "['95' '115' '?' '110' '105' '100' '135' '150' '125' '145' '140' '155'\n",
      " '160' '120' '130' '165' '80' '180' '170' '200' '185']\n",
      "[0]\n",
      "['?' '0' '1']\n",
      "['0' '?' '1' '2']\n",
      "['127' '154' '130' '125' '166' '156' '179' '128' '150' '120' '144' '176'\n",
      " '99' '122' '145' '140' '138' '133' '113' '118' '149' '124' '110' '139'\n",
      " '92' '104' '170' '163' '60' '126' '82' '95' '115' '135' '141' '155' '83'\n",
      " '97' '98' '100' '148' '103' '121' '131' '182' '105' '175' '94' '119'\n",
      " '143' '63' '70' '77' '117' '123' '134' '72' '78' '109' '86' '114' '93'\n",
      " '67' '90' '108' '136' '?' '157']\n",
      "['0' '1' '?']\n",
      "['.7' '.2' '?' '1' '2.8' '0' '-1.1' '1.6' '-1.5' '1.5' '2' '.5' '-.1'\n",
      " '-2.6' '2.1' '-.7' '2.2' '3' '.1' '.3' '-2' '-1' '1.8' '1.4' '2.6' '.9'\n",
      " '2.4' '1.1' '.4' '2.5' '1.7' '-.8' '-.5' '-.9' '3.7' '1.3']\n",
      "['1' '?' '2' '3']\n",
      "['?' '1' '2']\n",
      "['?' '7' '6' '3']\n",
      "[1 3 2 0 4]\n"
     ]
    }
   ],
   "source": [
    "cols = df.columns\n",
    "for col in cols:\n",
    "    print(df[col].unique())\n",
    "    # no categorical value "
   ]
  },
  {
   "cell_type": "markdown",
   "id": "59712c48",
   "metadata": {},
   "source": [
    "## Missing data operations"
   ]
  },
  {
   "cell_type": "code",
   "execution_count": 6,
   "id": "087f2c88",
   "metadata": {},
   "outputs": [],
   "source": [
    "# bazi veriler numeric olmasına ragmen object type olarak gozukuyor, bunun bir sebebi olabilir, örneğin \n",
    "# içerisinde 'boş' bırakılan veriler categorical bir değer ile doldurulmuştur \n",
    "# ya da gelişigüzel olarak belirtilmiş olabilir\n",
    "# detaylı incelenmeli\n",
    "\n",
    "# eger numeric olup object olan veriler varsa bunları numerice cevirince string değerler NaN olacaktır"
   ]
  },
  {
   "cell_type": "code",
   "execution_count": 7,
   "id": "5a2bf631",
   "metadata": {},
   "outputs": [
    {
     "data": {
      "text/plain": [
       "Index(['bps', 'fbs', 'restecg', 'thalach', 'exang', 'oldpeak', 'slope', 'ca',\n",
       "       'thal'],\n",
       "      dtype='object')"
      ]
     },
     "execution_count": 7,
     "metadata": {},
     "output_type": "execute_result"
    }
   ],
   "source": [
    "# UCI sitesindeki veriseti bilgilerine dayanarak kategorik olan sutunları float'a cevirebilirz.\n",
    "df.select_dtypes(include=['object',\"category\"]).columns"
   ]
  },
  {
   "cell_type": "code",
   "execution_count": 8,
   "id": "9ac85d31",
   "metadata": {},
   "outputs": [
    {
     "name": "stdout",
     "output_type": "stream",
     "text": [
      "<class 'pandas.core.frame.DataFrame'>\n",
      "RangeIndex: 123 entries, 0 to 122\n",
      "Data columns (total 14 columns):\n",
      " #   Column      Non-Null Count  Dtype  \n",
      "---  ------      --------------  -----  \n",
      " 0   age         123 non-null    int64  \n",
      " 1   sex         123 non-null    int64  \n",
      " 2   chestpain   123 non-null    int64  \n",
      " 3   bps         121 non-null    float64\n",
      " 4   cholestrol  123 non-null    int64  \n",
      " 5   fbs         48 non-null     float64\n",
      " 6   restecg     122 non-null    float64\n",
      " 7   thalach     122 non-null    float64\n",
      " 8   exang       122 non-null    float64\n",
      " 9   oldpeak     117 non-null    float64\n",
      " 10  slope       106 non-null    float64\n",
      " 11  ca          5 non-null      float64\n",
      " 12  thal        71 non-null     float64\n",
      " 13  prediction  123 non-null    int64  \n",
      "dtypes: float64(9), int64(5)\n",
      "memory usage: 13.6 KB\n"
     ]
    }
   ],
   "source": [
    "for column in df.select_dtypes(include=['object',\"category\"]).columns:\n",
    "    df[column] = pd.to_numeric(df[column],errors=\"coerce\")\n",
    "df.info()"
   ]
  },
  {
   "cell_type": "code",
   "execution_count": 9,
   "id": "fac58605",
   "metadata": {},
   "outputs": [
    {
     "name": "stdout",
     "output_type": "stream",
     "text": [
      "age             0\n",
      "sex             0\n",
      "chestpain       0\n",
      "bps             2\n",
      "cholestrol      0\n",
      "fbs            75\n",
      "restecg         1\n",
      "thalach         1\n",
      "exang           1\n",
      "oldpeak         6\n",
      "slope          17\n",
      "ca            118\n",
      "thal           52\n",
      "prediction      0\n",
      "dtype: int64\n",
      "<class 'pandas.core.frame.DataFrame'>\n",
      "RangeIndex: 123 entries, 0 to 122\n",
      "Data columns (total 14 columns):\n",
      " #   Column      Non-Null Count  Dtype  \n",
      "---  ------      --------------  -----  \n",
      " 0   age         123 non-null    int64  \n",
      " 1   sex         123 non-null    int64  \n",
      " 2   chestpain   123 non-null    int64  \n",
      " 3   bps         121 non-null    float64\n",
      " 4   cholestrol  123 non-null    int64  \n",
      " 5   fbs         48 non-null     float64\n",
      " 6   restecg     122 non-null    float64\n",
      " 7   thalach     122 non-null    float64\n",
      " 8   exang       122 non-null    float64\n",
      " 9   oldpeak     117 non-null    float64\n",
      " 10  slope       106 non-null    float64\n",
      " 11  ca          5 non-null      float64\n",
      " 12  thal        71 non-null     float64\n",
      " 13  prediction  123 non-null    int64  \n",
      "dtypes: float64(9), int64(5)\n",
      "memory usage: 13.6 KB\n"
     ]
    }
   ],
   "source": [
    "print(df.isnull().sum()) \n",
    "df.info() # gorunuste missing data yok fakat tabloda gorunene gore bazi verilerde ? işaretleri var"
   ]
  },
  {
   "cell_type": "code",
   "execution_count": 10,
   "id": "81510f83",
   "metadata": {},
   "outputs": [],
   "source": [
    "#df.isin(['?']).sum() # veri setinde bunlardan biri var mı? ['?', None, '-']\n",
    "# birçok veride soru işareti var yani kayıp veri"
   ]
  },
  {
   "cell_type": "code",
   "execution_count": 11,
   "id": "7d28c022",
   "metadata": {},
   "outputs": [],
   "source": [
    "#df.isin(['?']).sum()"
   ]
  },
  {
   "cell_type": "code",
   "execution_count": 12,
   "id": "c83585cf",
   "metadata": {},
   "outputs": [
    {
     "data": {
      "text/html": [
       "<div>\n",
       "<style scoped>\n",
       "    .dataframe tbody tr th:only-of-type {\n",
       "        vertical-align: middle;\n",
       "    }\n",
       "\n",
       "    .dataframe tbody tr th {\n",
       "        vertical-align: top;\n",
       "    }\n",
       "\n",
       "    .dataframe thead th {\n",
       "        text-align: right;\n",
       "    }\n",
       "</style>\n",
       "<table border=\"1\" class=\"dataframe\">\n",
       "  <thead>\n",
       "    <tr style=\"text-align: right;\">\n",
       "      <th></th>\n",
       "      <th>age</th>\n",
       "      <th>sex</th>\n",
       "      <th>chestpain</th>\n",
       "      <th>bps</th>\n",
       "      <th>cholestrol</th>\n",
       "      <th>fbs</th>\n",
       "      <th>restecg</th>\n",
       "      <th>thalach</th>\n",
       "      <th>exang</th>\n",
       "      <th>oldpeak</th>\n",
       "      <th>slope</th>\n",
       "      <th>ca</th>\n",
       "      <th>thal</th>\n",
       "      <th>prediction</th>\n",
       "    </tr>\n",
       "  </thead>\n",
       "  <tbody>\n",
       "    <tr>\n",
       "      <th>0</th>\n",
       "      <td>32</td>\n",
       "      <td>1</td>\n",
       "      <td>1</td>\n",
       "      <td>95.0</td>\n",
       "      <td>0</td>\n",
       "      <td>NaN</td>\n",
       "      <td>0.0</td>\n",
       "      <td>127.0</td>\n",
       "      <td>0.0</td>\n",
       "      <td>0.7</td>\n",
       "      <td>1.0</td>\n",
       "      <td>NaN</td>\n",
       "      <td>NaN</td>\n",
       "      <td>1</td>\n",
       "    </tr>\n",
       "    <tr>\n",
       "      <th>1</th>\n",
       "      <td>34</td>\n",
       "      <td>1</td>\n",
       "      <td>4</td>\n",
       "      <td>115.0</td>\n",
       "      <td>0</td>\n",
       "      <td>NaN</td>\n",
       "      <td>NaN</td>\n",
       "      <td>154.0</td>\n",
       "      <td>0.0</td>\n",
       "      <td>0.2</td>\n",
       "      <td>1.0</td>\n",
       "      <td>NaN</td>\n",
       "      <td>NaN</td>\n",
       "      <td>1</td>\n",
       "    </tr>\n",
       "    <tr>\n",
       "      <th>2</th>\n",
       "      <td>35</td>\n",
       "      <td>1</td>\n",
       "      <td>4</td>\n",
       "      <td>NaN</td>\n",
       "      <td>0</td>\n",
       "      <td>NaN</td>\n",
       "      <td>0.0</td>\n",
       "      <td>130.0</td>\n",
       "      <td>1.0</td>\n",
       "      <td>NaN</td>\n",
       "      <td>NaN</td>\n",
       "      <td>NaN</td>\n",
       "      <td>7.0</td>\n",
       "      <td>3</td>\n",
       "    </tr>\n",
       "    <tr>\n",
       "      <th>3</th>\n",
       "      <td>36</td>\n",
       "      <td>1</td>\n",
       "      <td>4</td>\n",
       "      <td>110.0</td>\n",
       "      <td>0</td>\n",
       "      <td>NaN</td>\n",
       "      <td>0.0</td>\n",
       "      <td>125.0</td>\n",
       "      <td>1.0</td>\n",
       "      <td>1.0</td>\n",
       "      <td>2.0</td>\n",
       "      <td>NaN</td>\n",
       "      <td>6.0</td>\n",
       "      <td>1</td>\n",
       "    </tr>\n",
       "    <tr>\n",
       "      <th>4</th>\n",
       "      <td>38</td>\n",
       "      <td>0</td>\n",
       "      <td>4</td>\n",
       "      <td>105.0</td>\n",
       "      <td>0</td>\n",
       "      <td>NaN</td>\n",
       "      <td>0.0</td>\n",
       "      <td>166.0</td>\n",
       "      <td>0.0</td>\n",
       "      <td>2.8</td>\n",
       "      <td>1.0</td>\n",
       "      <td>NaN</td>\n",
       "      <td>NaN</td>\n",
       "      <td>2</td>\n",
       "    </tr>\n",
       "  </tbody>\n",
       "</table>\n",
       "</div>"
      ],
      "text/plain": [
       "   age  sex  chestpain    bps  cholestrol  fbs  restecg  thalach  exang  \\\n",
       "0   32    1          1   95.0           0  NaN      0.0    127.0    0.0   \n",
       "1   34    1          4  115.0           0  NaN      NaN    154.0    0.0   \n",
       "2   35    1          4    NaN           0  NaN      0.0    130.0    1.0   \n",
       "3   36    1          4  110.0           0  NaN      0.0    125.0    1.0   \n",
       "4   38    0          4  105.0           0  NaN      0.0    166.0    0.0   \n",
       "\n",
       "   oldpeak  slope  ca  thal  prediction  \n",
       "0      0.7    1.0 NaN   NaN           1  \n",
       "1      0.2    1.0 NaN   NaN           1  \n",
       "2      NaN    NaN NaN   7.0           3  \n",
       "3      1.0    2.0 NaN   6.0           1  \n",
       "4      2.8    1.0 NaN   NaN           2  "
      ]
     },
     "execution_count": 12,
     "metadata": {},
     "output_type": "execute_result"
    }
   ],
   "source": [
    "df.head()"
   ]
  },
  {
   "cell_type": "code",
   "execution_count": 13,
   "id": "0c12e722",
   "metadata": {},
   "outputs": [
    {
     "name": "stdout",
     "output_type": "stream",
     "text": [
      "fbs  :  [nan  0.  1.]\n",
      "ca   :  [nan  1.  2.]\n",
      "thal :  [nan  7.  6.  3.]\n",
      "slope:  [ 1. nan  2.  3.]\n"
     ]
    }
   ],
   "source": [
    "# bazi sutunlarda cok fazla bos veri var bunlari tek tek incelemeli\n",
    "print(\"fbs  : \",df[\"fbs\"].unique())\n",
    "print(\"ca   : \",df[\"ca\"].unique())\n",
    "print(\"thal : \",df[\"thal\"].unique())\n",
    "print(\"slope: \",df[\"slope\"].unique())"
   ]
  },
  {
   "cell_type": "code",
   "execution_count": 14,
   "id": "800d7752",
   "metadata": {},
   "outputs": [
    {
     "data": {
      "text/html": [
       "<div>\n",
       "<style scoped>\n",
       "    .dataframe tbody tr th:only-of-type {\n",
       "        vertical-align: middle;\n",
       "    }\n",
       "\n",
       "    .dataframe tbody tr th {\n",
       "        vertical-align: top;\n",
       "    }\n",
       "\n",
       "    .dataframe thead th {\n",
       "        text-align: right;\n",
       "    }\n",
       "</style>\n",
       "<table border=\"1\" class=\"dataframe\">\n",
       "  <thead>\n",
       "    <tr style=\"text-align: right;\">\n",
       "      <th></th>\n",
       "      <th>percent_missing</th>\n",
       "    </tr>\n",
       "  </thead>\n",
       "  <tbody>\n",
       "    <tr>\n",
       "      <th>ca</th>\n",
       "      <td>95.934959</td>\n",
       "    </tr>\n",
       "    <tr>\n",
       "      <th>fbs</th>\n",
       "      <td>60.975610</td>\n",
       "    </tr>\n",
       "    <tr>\n",
       "      <th>thal</th>\n",
       "      <td>42.276423</td>\n",
       "    </tr>\n",
       "    <tr>\n",
       "      <th>slope</th>\n",
       "      <td>13.821138</td>\n",
       "    </tr>\n",
       "    <tr>\n",
       "      <th>oldpeak</th>\n",
       "      <td>4.878049</td>\n",
       "    </tr>\n",
       "    <tr>\n",
       "      <th>bps</th>\n",
       "      <td>1.626016</td>\n",
       "    </tr>\n",
       "    <tr>\n",
       "      <th>restecg</th>\n",
       "      <td>0.813008</td>\n",
       "    </tr>\n",
       "    <tr>\n",
       "      <th>thalach</th>\n",
       "      <td>0.813008</td>\n",
       "    </tr>\n",
       "    <tr>\n",
       "      <th>exang</th>\n",
       "      <td>0.813008</td>\n",
       "    </tr>\n",
       "    <tr>\n",
       "      <th>age</th>\n",
       "      <td>0.000000</td>\n",
       "    </tr>\n",
       "    <tr>\n",
       "      <th>sex</th>\n",
       "      <td>0.000000</td>\n",
       "    </tr>\n",
       "    <tr>\n",
       "      <th>chestpain</th>\n",
       "      <td>0.000000</td>\n",
       "    </tr>\n",
       "    <tr>\n",
       "      <th>cholestrol</th>\n",
       "      <td>0.000000</td>\n",
       "    </tr>\n",
       "    <tr>\n",
       "      <th>prediction</th>\n",
       "      <td>0.000000</td>\n",
       "    </tr>\n",
       "  </tbody>\n",
       "</table>\n",
       "</div>"
      ],
      "text/plain": [
       "            percent_missing\n",
       "ca                95.934959\n",
       "fbs               60.975610\n",
       "thal              42.276423\n",
       "slope             13.821138\n",
       "oldpeak            4.878049\n",
       "bps                1.626016\n",
       "restecg            0.813008\n",
       "thalach            0.813008\n",
       "exang              0.813008\n",
       "age                0.000000\n",
       "sex                0.000000\n",
       "chestpain          0.000000\n",
       "cholestrol         0.000000\n",
       "prediction         0.000000"
      ]
     },
     "execution_count": 14,
     "metadata": {},
     "output_type": "execute_result"
    }
   ],
   "source": [
    "percent_missing = df.isnull().sum() * 100 / len(df)\n",
    "missing_value_df = pd.DataFrame({'percent_missing': percent_missing})\n",
    "missing_value_df.sort_values('percent_missing', ascending=False)"
   ]
  },
  {
   "cell_type": "code",
   "execution_count": 15,
   "id": "d1efc84f",
   "metadata": {},
   "outputs": [],
   "source": [
    "# drop - ca, fbs, thal\n",
    "df.drop(columns=[\"ca\",\"fbs\",\"thal\"], inplace=True)"
   ]
  },
  {
   "cell_type": "code",
   "execution_count": 16,
   "id": "ab50f716",
   "metadata": {},
   "outputs": [
    {
     "data": {
      "text/plain": [
       "<AxesSubplot:>"
      ]
     },
     "execution_count": 16,
     "metadata": {},
     "output_type": "execute_result"
    },
    {
     "data": {
      "image/png": "[encoded data removed]",
      "text/plain": [
       "<Figure size 432x288 with 1 Axes>"
      ]
     },
     "metadata": {
      "needs_background": "light"
     },
     "output_type": "display_data"
    }
   ],
   "source": [
    "# slope incelemesi\n",
    "#slope: the slope of the peak exercise ST segment\n",
    "#-- Value 1: upsloping\n",
    "#-- Value 2: flat\n",
    "#-- Value 3: downsloping\n",
    "df[\"slope\"].value_counts().plot.bar()"
   ]
  },
  {
   "cell_type": "code",
   "execution_count": 17,
   "id": "618da9af",
   "metadata": {},
   "outputs": [
    {
     "name": "stdout",
     "output_type": "stream",
     "text": [
      "thalach      -0.155537\n",
      "bps          -0.140378\n",
      "restecg      -0.083021\n",
      "oldpeak      -0.044153\n",
      "prediction   -0.040994\n",
      "sex          -0.023671\n",
      "chestpain     0.064606\n",
      "age           0.090648\n",
      "exang         0.193089\n",
      "slope         1.000000\n",
      "cholestrol         NaN\n",
      "Name: slope, dtype: float64\n",
      "\n"
     ]
    }
   ],
   "source": [
    "# checking correlations\n",
    "corr = df.corr()\n",
    "print(corr[\"slope\"].sort_values())\n",
    "print()"
   ]
  },
  {
   "cell_type": "code",
   "execution_count": 18,
   "id": "dfb12b85",
   "metadata": {},
   "outputs": [
    {
     "data": {
      "text/plain": [
       "<AxesSubplot:>"
      ]
     },
     "execution_count": 18,
     "metadata": {},
     "output_type": "execute_result"
    },
    {
     "data": {
      "image/png": "[encoded data removed]",
      "text/plain": [
       "<Figure size 432x288 with 1 Axes>"
      ]
     },
     "metadata": {
      "needs_background": "light"
     },
     "output_type": "display_data"
    }
   ],
   "source": [
    "df[\"oldpeak\"].value_counts().plot.bar()"
   ]
  },
  {
   "cell_type": "code",
   "execution_count": 19,
   "id": "20a75980",
   "metadata": {},
   "outputs": [
    {
     "data": {
      "text/html": [
       "<div>\n",
       "<style scoped>\n",
       "    .dataframe tbody tr th:only-of-type {\n",
       "        vertical-align: middle;\n",
       "    }\n",
       "\n",
       "    .dataframe tbody tr th {\n",
       "        vertical-align: top;\n",
       "    }\n",
       "\n",
       "    .dataframe thead th {\n",
       "        text-align: right;\n",
       "    }\n",
       "</style>\n",
       "<table border=\"1\" class=\"dataframe\">\n",
       "  <thead>\n",
       "    <tr style=\"text-align: right;\">\n",
       "      <th></th>\n",
       "      <th>age</th>\n",
       "      <th>sex</th>\n",
       "      <th>chestpain</th>\n",
       "      <th>bps</th>\n",
       "      <th>cholestrol</th>\n",
       "      <th>restecg</th>\n",
       "      <th>thalach</th>\n",
       "      <th>exang</th>\n",
       "      <th>oldpeak</th>\n",
       "      <th>slope</th>\n",
       "      <th>prediction</th>\n",
       "    </tr>\n",
       "  </thead>\n",
       "  <tbody>\n",
       "    <tr>\n",
       "      <th>0</th>\n",
       "      <td>32</td>\n",
       "      <td>1</td>\n",
       "      <td>1</td>\n",
       "      <td>95.0</td>\n",
       "      <td>0</td>\n",
       "      <td>0.0</td>\n",
       "      <td>127.0</td>\n",
       "      <td>0.0</td>\n",
       "      <td>0.7</td>\n",
       "      <td>1.0</td>\n",
       "      <td>1</td>\n",
       "    </tr>\n",
       "    <tr>\n",
       "      <th>1</th>\n",
       "      <td>34</td>\n",
       "      <td>1</td>\n",
       "      <td>4</td>\n",
       "      <td>115.0</td>\n",
       "      <td>0</td>\n",
       "      <td>0.0</td>\n",
       "      <td>154.0</td>\n",
       "      <td>0.0</td>\n",
       "      <td>0.2</td>\n",
       "      <td>1.0</td>\n",
       "      <td>1</td>\n",
       "    </tr>\n",
       "    <tr>\n",
       "      <th>2</th>\n",
       "      <td>35</td>\n",
       "      <td>1</td>\n",
       "      <td>4</td>\n",
       "      <td>115.0</td>\n",
       "      <td>0</td>\n",
       "      <td>0.0</td>\n",
       "      <td>130.0</td>\n",
       "      <td>1.0</td>\n",
       "      <td>0.0</td>\n",
       "      <td>2.0</td>\n",
       "      <td>3</td>\n",
       "    </tr>\n",
       "    <tr>\n",
       "      <th>3</th>\n",
       "      <td>36</td>\n",
       "      <td>1</td>\n",
       "      <td>4</td>\n",
       "      <td>110.0</td>\n",
       "      <td>0</td>\n",
       "      <td>0.0</td>\n",
       "      <td>125.0</td>\n",
       "      <td>1.0</td>\n",
       "      <td>1.0</td>\n",
       "      <td>2.0</td>\n",
       "      <td>1</td>\n",
       "    </tr>\n",
       "    <tr>\n",
       "      <th>4</th>\n",
       "      <td>38</td>\n",
       "      <td>0</td>\n",
       "      <td>4</td>\n",
       "      <td>105.0</td>\n",
       "      <td>0</td>\n",
       "      <td>0.0</td>\n",
       "      <td>166.0</td>\n",
       "      <td>0.0</td>\n",
       "      <td>2.8</td>\n",
       "      <td>1.0</td>\n",
       "      <td>2</td>\n",
       "    </tr>\n",
       "    <tr>\n",
       "      <th>...</th>\n",
       "      <td>...</td>\n",
       "      <td>...</td>\n",
       "      <td>...</td>\n",
       "      <td>...</td>\n",
       "      <td>...</td>\n",
       "      <td>...</td>\n",
       "      <td>...</td>\n",
       "      <td>...</td>\n",
       "      <td>...</td>\n",
       "      <td>...</td>\n",
       "      <td>...</td>\n",
       "    </tr>\n",
       "    <tr>\n",
       "      <th>118</th>\n",
       "      <td>70</td>\n",
       "      <td>1</td>\n",
       "      <td>4</td>\n",
       "      <td>115.0</td>\n",
       "      <td>0</td>\n",
       "      <td>1.0</td>\n",
       "      <td>92.0</td>\n",
       "      <td>1.0</td>\n",
       "      <td>0.0</td>\n",
       "      <td>2.0</td>\n",
       "      <td>1</td>\n",
       "    </tr>\n",
       "    <tr>\n",
       "      <th>119</th>\n",
       "      <td>70</td>\n",
       "      <td>1</td>\n",
       "      <td>4</td>\n",
       "      <td>140.0</td>\n",
       "      <td>0</td>\n",
       "      <td>0.0</td>\n",
       "      <td>157.0</td>\n",
       "      <td>1.0</td>\n",
       "      <td>2.0</td>\n",
       "      <td>2.0</td>\n",
       "      <td>3</td>\n",
       "    </tr>\n",
       "    <tr>\n",
       "      <th>120</th>\n",
       "      <td>72</td>\n",
       "      <td>1</td>\n",
       "      <td>3</td>\n",
       "      <td>160.0</td>\n",
       "      <td>0</td>\n",
       "      <td>2.0</td>\n",
       "      <td>114.0</td>\n",
       "      <td>0.0</td>\n",
       "      <td>1.6</td>\n",
       "      <td>2.0</td>\n",
       "      <td>0</td>\n",
       "    </tr>\n",
       "    <tr>\n",
       "      <th>121</th>\n",
       "      <td>73</td>\n",
       "      <td>0</td>\n",
       "      <td>3</td>\n",
       "      <td>160.0</td>\n",
       "      <td>0</td>\n",
       "      <td>1.0</td>\n",
       "      <td>121.0</td>\n",
       "      <td>0.0</td>\n",
       "      <td>0.0</td>\n",
       "      <td>1.0</td>\n",
       "      <td>1</td>\n",
       "    </tr>\n",
       "    <tr>\n",
       "      <th>122</th>\n",
       "      <td>74</td>\n",
       "      <td>1</td>\n",
       "      <td>2</td>\n",
       "      <td>145.0</td>\n",
       "      <td>0</td>\n",
       "      <td>1.0</td>\n",
       "      <td>123.0</td>\n",
       "      <td>0.0</td>\n",
       "      <td>1.3</td>\n",
       "      <td>1.0</td>\n",
       "      <td>1</td>\n",
       "    </tr>\n",
       "  </tbody>\n",
       "</table>\n",
       "<p>123 rows × 11 columns</p>\n",
       "</div>"
      ],
      "text/plain": [
       "     age  sex  chestpain    bps  cholestrol  restecg  thalach  exang  oldpeak  \\\n",
       "0     32    1          1   95.0           0      0.0    127.0    0.0      0.7   \n",
       "1     34    1          4  115.0           0      0.0    154.0    0.0      0.2   \n",
       "2     35    1          4  115.0           0      0.0    130.0    1.0      0.0   \n",
       "3     36    1          4  110.0           0      0.0    125.0    1.0      1.0   \n",
       "4     38    0          4  105.0           0      0.0    166.0    0.0      2.8   \n",
       "..   ...  ...        ...    ...         ...      ...      ...    ...      ...   \n",
       "118   70    1          4  115.0           0      1.0     92.0    1.0      0.0   \n",
       "119   70    1          4  140.0           0      0.0    157.0    1.0      2.0   \n",
       "120   72    1          3  160.0           0      2.0    114.0    0.0      1.6   \n",
       "121   73    0          3  160.0           0      1.0    121.0    0.0      0.0   \n",
       "122   74    1          2  145.0           0      1.0    123.0    0.0      1.3   \n",
       "\n",
       "     slope  prediction  \n",
       "0      1.0           1  \n",
       "1      1.0           1  \n",
       "2      2.0           3  \n",
       "3      2.0           1  \n",
       "4      1.0           2  \n",
       "..     ...         ...  \n",
       "118    2.0           1  \n",
       "119    2.0           3  \n",
       "120    2.0           0  \n",
       "121    1.0           1  \n",
       "122    1.0           1  \n",
       "\n",
       "[123 rows x 11 columns]"
      ]
     },
     "execution_count": 19,
     "metadata": {},
     "output_type": "execute_result"
    }
   ],
   "source": [
    "# categorical kayıp veriler en yaygın olanlar ile degistirildi.\n",
    "def fillna(col):\n",
    "    col.fillna(col.value_counts().index[0], inplace=True)\n",
    "    return col\n",
    "df_no_missing = df.copy()\n",
    "df_no_missing.apply(lambda col:fillna(col))"
   ]
  },
  {
   "cell_type": "code",
   "execution_count": 20,
   "id": "c36ea5ca",
   "metadata": {},
   "outputs": [
    {
     "data": {
      "text/plain": [
       "0"
      ]
     },
     "execution_count": 20,
     "metadata": {},
     "output_type": "execute_result"
    }
   ],
   "source": [
    "df_no_missing.isna().sum().sum()"
   ]
  },
  {
   "cell_type": "markdown",
   "id": "102f780a",
   "metadata": {},
   "source": [
    "# Machine Learning Operations"
   ]
  },
  {
   "cell_type": "code",
   "execution_count": 21,
   "id": "2ba04b81",
   "metadata": {},
   "outputs": [],
   "source": [
    "X = df_no_missing.drop(columns=\"prediction\",axis=1).copy()\n",
    "y = df[\"prediction\"].copy()"
   ]
  },
  {
   "cell_type": "code",
   "execution_count": 22,
   "id": "9039bb68",
   "metadata": {},
   "outputs": [
    {
     "data": {
      "text/plain": [
       "array([1, 3, 2, 0, 4])"
      ]
     },
     "execution_count": 22,
     "metadata": {},
     "output_type": "execute_result"
    }
   ],
   "source": [
    "y.unique() # need to convert 0 - 1 pairs  to make this process easier\n",
    "# if someone is greter then 0, they willl. pretend like they have heart disease"
   ]
  },
  {
   "cell_type": "code",
   "execution_count": 23,
   "id": "97db24b9",
   "metadata": {},
   "outputs": [
    {
     "data": {
      "text/plain": [
       "array([1, 0])"
      ]
     },
     "execution_count": 23,
     "metadata": {},
     "output_type": "execute_result"
    }
   ],
   "source": [
    "y_zero_one = y > 0\n",
    "y[y_zero_one] = 1\n",
    "y.unique()"
   ]
  },
  {
   "cell_type": "code",
   "execution_count": 24,
   "id": "a9e2157a",
   "metadata": {},
   "outputs": [],
   "source": [
    "# data scaling and encoding - getting ready to train\n",
    "from sklearn.preprocessing import StandardScaler, LabelEncoder\n",
    "scaler = StandardScaler()\n",
    "LEncoder = LabelEncoder()\n",
    "\n",
    "X_scaled = scaler.fit_transform(X)\n",
    "y = LEncoder.fit_transform(y)\n",
    "X_train, X_test, y_train, y_test = train_test_split(X_scaled,y, test_size=0.2, random_state=42)\n"
   ]
  },
  {
   "cell_type": "code",
   "execution_count": 25,
   "id": "24e68050",
   "metadata": {},
   "outputs": [
    {
     "name": "stdout",
     "output_type": "stream",
     "text": [
      "Accuracy :  0.88\n",
      "              precision    recall  f1-score   support\n",
      "\n",
      "           0       0.00      0.00      0.00         2\n",
      "           1       0.92      0.96      0.94        23\n",
      "\n",
      "    accuracy                           0.88        25\n",
      "   macro avg       0.46      0.48      0.47        25\n",
      "weighted avg       0.84      0.88      0.86        25\n",
      "\n"
     ]
    }
   ],
   "source": [
    "# model training adn predictions - checking the result out\n",
    "clf = DecisionTreeClassifier(random_state=42)\n",
    "clf.fit(X_train,y_train)\n",
    "\n",
    "y_pred = clf.predict(X_test)\n",
    "print(\"Accuracy : \" , accuracy_score(y_test, y_pred))\n",
    "# print prediction results\n",
    "predictions = clf.predict(X_test)\n",
    "print(classification_report(y_test, predictions))"
   ]
  },
  {
   "cell_type": "code",
   "execution_count": 26,
   "id": "52c5cf06",
   "metadata": {},
   "outputs": [
    {
     "data": {
      "text/plain": [
       "[Text(558.0, 733.86, 'chestpain <= -0.29\\ngini = 0.115\\nsamples = 98\\nvalue = [6, 92]\\nclass = No'),\n",
       " Text(343.38461538461536, 570.78, 'slope <= -0.567\\ngini = 0.375\\nsamples = 20\\nvalue = [5, 15]\\nclass = No'),\n",
       " Text(171.69230769230768, 407.70000000000005, 'thalach <= 0.348\\ngini = 0.48\\nsamples = 5\\nvalue = [3, 2]\\nclass = Yes'),\n",
       " Text(85.84615384615384, 244.62, 'gini = 0.0\\nsamples = 2\\nvalue = [0, 2]\\nclass = No'),\n",
       " Text(257.53846153846155, 244.62, 'gini = 0.0\\nsamples = 3\\nvalue = [3, 0]\\nclass = Yes'),\n",
       " Text(515.0769230769231, 407.70000000000005, 'slope <= 1.156\\ngini = 0.231\\nsamples = 15\\nvalue = [2, 13]\\nclass = No'),\n",
       " Text(429.23076923076917, 244.62, 'age <= 1.577\\ngini = 0.133\\nsamples = 14\\nvalue = [1, 13]\\nclass = No'),\n",
       " Text(343.38461538461536, 81.54000000000008, 'gini = 0.0\\nsamples = 13\\nvalue = [0, 13]\\nclass = No'),\n",
       " Text(515.0769230769231, 81.54000000000008, 'gini = 0.0\\nsamples = 1\\nvalue = [1, 0]\\nclass = Yes'),\n",
       " Text(600.9230769230769, 244.62, 'gini = 0.0\\nsamples = 1\\nvalue = [1, 0]\\nclass = Yes'),\n",
       " Text(772.6153846153845, 570.78, 'age <= 1.021\\ngini = 0.025\\nsamples = 78\\nvalue = [1, 77]\\nclass = No'),\n",
       " Text(686.7692307692307, 407.70000000000005, 'gini = 0.0\\nsamples = 68\\nvalue = [0, 68]\\nclass = No'),\n",
       " Text(858.4615384615383, 407.70000000000005, 'thalach <= 0.91\\ngini = 0.18\\nsamples = 10\\nvalue = [1, 9]\\nclass = No'),\n",
       " Text(772.6153846153845, 244.62, 'gini = 0.0\\nsamples = 8\\nvalue = [0, 8]\\nclass = No'),\n",
       " Text(944.3076923076923, 244.62, 'exang <= 0.123\\ngini = 0.5\\nsamples = 2\\nvalue = [1, 1]\\nclass = Yes'),\n",
       " Text(858.4615384615383, 81.54000000000008, 'gini = 0.0\\nsamples = 1\\nvalue = [1, 0]\\nclass = Yes'),\n",
       " Text(1030.1538461538462, 81.54000000000008, 'gini = 0.0\\nsamples = 1\\nvalue = [0, 1]\\nclass = No')]"
      ]
     },
     "execution_count": 26,
     "metadata": {},
     "output_type": "execute_result"
    },
    {
     "data": {
      "image/png": "[encoded data removed]",
      "text/plain": [
       "<Figure size 1440x1080 with 1 Axes>"
      ]
     },
     "metadata": {
      "needs_background": "light"
     },
     "output_type": "display_data"
    }
   ],
   "source": [
    "# to make this output clear and to understand decision tree's mechanism behind\n",
    "plt.figure(figsize=(20,15))\n",
    "plot_tree(clf,filled=True,\n",
    "         rounded=True,\n",
    "         class_names=[\"Yes\", \"No\"],\n",
    "         feature_names=X.columns\n",
    "         )"
   ]
  },
  {
   "cell_type": "markdown",
   "id": "2d5ae071",
   "metadata": {},
   "source": [
    "___ENES ÇAVUŞ - Decision Tree and EDA practices___"
   ]
  },
  {
   "cell_type": "code",
   "execution_count": null,
   "id": "9ee93157",
   "metadata": {},
   "outputs": [],
   "source": []
  },
  {
   "cell_type": "code",
   "execution_count": null,
   "id": "b06440ba",
   "metadata": {},
   "outputs": [],
   "source": []
  }
 ],
 "metadata": {
  "kernelspec": {
   "display_name": "Python 3 (ipykernel)",
   "language": "python",
   "name": "python3"
  },
  "language_info": {
   "codemirror_mode": {
    "name": "ipython",
    "version": 3
   },
   "file_extension": ".py",
   "mimetype": "text/x-python",
   "name": "python",
   "nbconvert_exporter": "python",
   "pygments_lexer": "ipython3",
   "version": "3.8.1"
  }
 },
 "nbformat": 4,
 "nbformat_minor": 5
}
