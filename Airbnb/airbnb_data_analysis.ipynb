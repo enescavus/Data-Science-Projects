{
 "cells": [
  {
   "cell_type": "code",
   "execution_count": 1,
   "metadata": {},
   "outputs": [],
   "source": [
    "import pandas as pd \n",
    "import seaborn as sns\n",
    "import matplotlib.pyplot as plt"
   ]
  },
  {
   "cell_type": "code",
   "execution_count": 2,
   "metadata": {},
   "outputs": [
    {
     "data": {
      "text/html": [
       "<div>\n",
       "<style scoped>\n",
       "    .dataframe tbody tr th:only-of-type {\n",
       "        vertical-align: middle;\n",
       "    }\n",
       "\n",
       "    .dataframe tbody tr th {\n",
       "        vertical-align: top;\n",
       "    }\n",
       "\n",
       "    .dataframe thead th {\n",
       "        text-align: right;\n",
       "    }\n",
       "</style>\n",
       "<table border=\"1\" class=\"dataframe\">\n",
       "  <thead>\n",
       "    <tr style=\"text-align: right;\">\n",
       "      <th></th>\n",
       "      <th>id</th>\n",
       "      <th>name</th>\n",
       "      <th>host_id</th>\n",
       "      <th>host_name</th>\n",
       "      <th>neighbourhood_group</th>\n",
       "      <th>neighbourhood</th>\n",
       "      <th>latitude</th>\n",
       "      <th>longitude</th>\n",
       "      <th>room_type</th>\n",
       "      <th>price</th>\n",
       "      <th>minimum_nights</th>\n",
       "      <th>number_of_reviews</th>\n",
       "      <th>last_review</th>\n",
       "      <th>reviews_per_month</th>\n",
       "      <th>calculated_host_listings_count</th>\n",
       "      <th>availability_365</th>\n",
       "    </tr>\n",
       "  </thead>\n",
       "  <tbody>\n",
       "    <tr>\n",
       "      <th>0</th>\n",
       "      <td>20815</td>\n",
       "      <td>The Bosphorus from The Comfy Hill</td>\n",
       "      <td>78838</td>\n",
       "      <td>Gülder</td>\n",
       "      <td>NaN</td>\n",
       "      <td>Besiktas</td>\n",
       "      <td>41.06984</td>\n",
       "      <td>29.04545</td>\n",
       "      <td>Entire home/apt</td>\n",
       "      <td>965</td>\n",
       "      <td>365</td>\n",
       "      <td>41</td>\n",
       "      <td>2018-11-07</td>\n",
       "      <td>0.32</td>\n",
       "      <td>2</td>\n",
       "      <td>356</td>\n",
       "    </tr>\n",
       "    <tr>\n",
       "      <th>1</th>\n",
       "      <td>27271</td>\n",
       "      <td>Lovely apartment in perfect location</td>\n",
       "      <td>117026</td>\n",
       "      <td>Mutlu</td>\n",
       "      <td>NaN</td>\n",
       "      <td>Beyoglu</td>\n",
       "      <td>41.03254</td>\n",
       "      <td>28.98153</td>\n",
       "      <td>Entire home/apt</td>\n",
       "      <td>289</td>\n",
       "      <td>30</td>\n",
       "      <td>10</td>\n",
       "      <td>2018-05-04</td>\n",
       "      <td>0.32</td>\n",
       "      <td>1</td>\n",
       "      <td>0</td>\n",
       "    </tr>\n",
       "    <tr>\n",
       "      <th>2</th>\n",
       "      <td>28318</td>\n",
       "      <td>Cosy home overlooking Bosphorus</td>\n",
       "      <td>121721</td>\n",
       "      <td>Aydin</td>\n",
       "      <td>NaN</td>\n",
       "      <td>Sariyer</td>\n",
       "      <td>41.09048</td>\n",
       "      <td>29.05559</td>\n",
       "      <td>Entire home/apt</td>\n",
       "      <td>1018</td>\n",
       "      <td>3</td>\n",
       "      <td>0</td>\n",
       "      <td>NaN</td>\n",
       "      <td>NaN</td>\n",
       "      <td>1</td>\n",
       "      <td>88</td>\n",
       "    </tr>\n",
       "    <tr>\n",
       "      <th>3</th>\n",
       "      <td>29241</td>\n",
       "      <td>↪ Istanbul, Your second house</td>\n",
       "      <td>125742</td>\n",
       "      <td>Şevki</td>\n",
       "      <td>NaN</td>\n",
       "      <td>Beyoglu</td>\n",
       "      <td>41.04844</td>\n",
       "      <td>28.95254</td>\n",
       "      <td>Private room</td>\n",
       "      <td>407</td>\n",
       "      <td>3</td>\n",
       "      <td>0</td>\n",
       "      <td>NaN</td>\n",
       "      <td>NaN</td>\n",
       "      <td>1</td>\n",
       "      <td>365</td>\n",
       "    </tr>\n",
       "    <tr>\n",
       "      <th>4</th>\n",
       "      <td>30697</td>\n",
       "      <td>nice home in popular area</td>\n",
       "      <td>132137</td>\n",
       "      <td>Nan</td>\n",
       "      <td>NaN</td>\n",
       "      <td>Beyoglu</td>\n",
       "      <td>41.03350</td>\n",
       "      <td>28.97626</td>\n",
       "      <td>Private room</td>\n",
       "      <td>952</td>\n",
       "      <td>1</td>\n",
       "      <td>1</td>\n",
       "      <td>2010-06-14</td>\n",
       "      <td>0.01</td>\n",
       "      <td>1</td>\n",
       "      <td>364</td>\n",
       "    </tr>\n",
       "  </tbody>\n",
       "</table>\n",
       "</div>"
      ],
      "text/plain": [
       "      id                                  name  host_id host_name  \\\n",
       "0  20815     The Bosphorus from The Comfy Hill    78838    Gülder   \n",
       "1  27271  Lovely apartment in perfect location   117026     Mutlu   \n",
       "2  28318       Cosy home overlooking Bosphorus   121721     Aydin   \n",
       "3  29241         ↪ Istanbul, Your second house   125742     Şevki   \n",
       "4  30697             nice home in popular area   132137       Nan   \n",
       "\n",
       "   neighbourhood_group neighbourhood  latitude  longitude        room_type  \\\n",
       "0                  NaN      Besiktas  41.06984   29.04545  Entire home/apt   \n",
       "1                  NaN       Beyoglu  41.03254   28.98153  Entire home/apt   \n",
       "2                  NaN       Sariyer  41.09048   29.05559  Entire home/apt   \n",
       "3                  NaN       Beyoglu  41.04844   28.95254     Private room   \n",
       "4                  NaN       Beyoglu  41.03350   28.97626     Private room   \n",
       "\n",
       "   price  minimum_nights  number_of_reviews last_review  reviews_per_month  \\\n",
       "0    965             365                 41  2018-11-07               0.32   \n",
       "1    289              30                 10  2018-05-04               0.32   \n",
       "2   1018               3                  0         NaN                NaN   \n",
       "3    407               3                  0         NaN                NaN   \n",
       "4    952               1                  1  2010-06-14               0.01   \n",
       "\n",
       "   calculated_host_listings_count  availability_365  \n",
       "0                               2               356  \n",
       "1                               1                 0  \n",
       "2                               1                88  \n",
       "3                               1               365  \n",
       "4                               1               364  "
      ]
     },
     "execution_count": 2,
     "metadata": {},
     "output_type": "execute_result"
    }
   ],
   "source": [
    "veri = pd.read_csv('datasets/airbnb_dataset.csv')\n",
    "veri.head()"
   ]
  },
  {
   "cell_type": "code",
   "execution_count": 3,
   "metadata": {},
   "outputs": [
    {
     "name": "stdout",
     "output_type": "stream",
     "text": [
      "<class 'pandas.core.frame.DataFrame'>\n",
      "RangeIndex: 22328 entries, 0 to 22327\n",
      "Data columns (total 16 columns):\n",
      " #   Column                          Non-Null Count  Dtype  \n",
      "---  ------                          --------------  -----  \n",
      " 0   id                              22328 non-null  int64  \n",
      " 1   name                            22294 non-null  object \n",
      " 2   host_id                         22328 non-null  int64  \n",
      " 3   host_name                       22318 non-null  object \n",
      " 4   neighbourhood_group             0 non-null      float64\n",
      " 5   neighbourhood                   22328 non-null  object \n",
      " 6   latitude                        22328 non-null  float64\n",
      " 7   longitude                       22328 non-null  float64\n",
      " 8   room_type                       22328 non-null  object \n",
      " 9   price                           22328 non-null  int64  \n",
      " 10  minimum_nights                  22328 non-null  int64  \n",
      " 11  number_of_reviews               22328 non-null  int64  \n",
      " 12  last_review                     10729 non-null  object \n",
      " 13  reviews_per_month               10729 non-null  float64\n",
      " 14  calculated_host_listings_count  22328 non-null  int64  \n",
      " 15  availability_365                22328 non-null  int64  \n",
      "dtypes: float64(4), int64(7), object(5)\n",
      "memory usage: 2.7+ MB\n"
     ]
    }
   ],
   "source": [
    "veri.info()"
   ]
  },
  {
   "cell_type": "code",
   "execution_count": 4,
   "metadata": {},
   "outputs": [
    {
     "data": {
      "text/html": [
       "<div>\n",
       "<style scoped>\n",
       "    .dataframe tbody tr th:only-of-type {\n",
       "        vertical-align: middle;\n",
       "    }\n",
       "\n",
       "    .dataframe tbody tr th {\n",
       "        vertical-align: top;\n",
       "    }\n",
       "\n",
       "    .dataframe thead th {\n",
       "        text-align: right;\n",
       "    }\n",
       "</style>\n",
       "<table border=\"1\" class=\"dataframe\">\n",
       "  <thead>\n",
       "    <tr style=\"text-align: right;\">\n",
       "      <th></th>\n",
       "      <th>neighbourhood_group</th>\n",
       "      <th>neighbourhood</th>\n",
       "      <th>latitude</th>\n",
       "      <th>longitude</th>\n",
       "      <th>room_type</th>\n",
       "      <th>price</th>\n",
       "      <th>minimum_nights</th>\n",
       "      <th>number_of_reviews</th>\n",
       "      <th>last_review</th>\n",
       "      <th>reviews_per_month</th>\n",
       "      <th>calculated_host_listings_count</th>\n",
       "      <th>availability_365</th>\n",
       "    </tr>\n",
       "  </thead>\n",
       "  <tbody>\n",
       "    <tr>\n",
       "      <th>0</th>\n",
       "      <td>NaN</td>\n",
       "      <td>Besiktas</td>\n",
       "      <td>41.06984</td>\n",
       "      <td>29.04545</td>\n",
       "      <td>Entire home/apt</td>\n",
       "      <td>965</td>\n",
       "      <td>365</td>\n",
       "      <td>41</td>\n",
       "      <td>2018-11-07</td>\n",
       "      <td>0.32</td>\n",
       "      <td>2</td>\n",
       "      <td>356</td>\n",
       "    </tr>\n",
       "    <tr>\n",
       "      <th>1</th>\n",
       "      <td>NaN</td>\n",
       "      <td>Beyoglu</td>\n",
       "      <td>41.03254</td>\n",
       "      <td>28.98153</td>\n",
       "      <td>Entire home/apt</td>\n",
       "      <td>289</td>\n",
       "      <td>30</td>\n",
       "      <td>10</td>\n",
       "      <td>2018-05-04</td>\n",
       "      <td>0.32</td>\n",
       "      <td>1</td>\n",
       "      <td>0</td>\n",
       "    </tr>\n",
       "    <tr>\n",
       "      <th>2</th>\n",
       "      <td>NaN</td>\n",
       "      <td>Sariyer</td>\n",
       "      <td>41.09048</td>\n",
       "      <td>29.05559</td>\n",
       "      <td>Entire home/apt</td>\n",
       "      <td>1018</td>\n",
       "      <td>3</td>\n",
       "      <td>0</td>\n",
       "      <td>NaN</td>\n",
       "      <td>NaN</td>\n",
       "      <td>1</td>\n",
       "      <td>88</td>\n",
       "    </tr>\n",
       "    <tr>\n",
       "      <th>3</th>\n",
       "      <td>NaN</td>\n",
       "      <td>Beyoglu</td>\n",
       "      <td>41.04844</td>\n",
       "      <td>28.95254</td>\n",
       "      <td>Private room</td>\n",
       "      <td>407</td>\n",
       "      <td>3</td>\n",
       "      <td>0</td>\n",
       "      <td>NaN</td>\n",
       "      <td>NaN</td>\n",
       "      <td>1</td>\n",
       "      <td>365</td>\n",
       "    </tr>\n",
       "    <tr>\n",
       "      <th>4</th>\n",
       "      <td>NaN</td>\n",
       "      <td>Beyoglu</td>\n",
       "      <td>41.03350</td>\n",
       "      <td>28.97626</td>\n",
       "      <td>Private room</td>\n",
       "      <td>952</td>\n",
       "      <td>1</td>\n",
       "      <td>1</td>\n",
       "      <td>2010-06-14</td>\n",
       "      <td>0.01</td>\n",
       "      <td>1</td>\n",
       "      <td>364</td>\n",
       "    </tr>\n",
       "  </tbody>\n",
       "</table>\n",
       "</div>"
      ],
      "text/plain": [
       "   neighbourhood_group neighbourhood  latitude  longitude        room_type  \\\n",
       "0                  NaN      Besiktas  41.06984   29.04545  Entire home/apt   \n",
       "1                  NaN       Beyoglu  41.03254   28.98153  Entire home/apt   \n",
       "2                  NaN       Sariyer  41.09048   29.05559  Entire home/apt   \n",
       "3                  NaN       Beyoglu  41.04844   28.95254     Private room   \n",
       "4                  NaN       Beyoglu  41.03350   28.97626     Private room   \n",
       "\n",
       "   price  minimum_nights  number_of_reviews last_review  reviews_per_month  \\\n",
       "0    965             365                 41  2018-11-07               0.32   \n",
       "1    289              30                 10  2018-05-04               0.32   \n",
       "2   1018               3                  0         NaN                NaN   \n",
       "3    407               3                  0         NaN                NaN   \n",
       "4    952               1                  1  2010-06-14               0.01   \n",
       "\n",
       "   calculated_host_listings_count  availability_365  \n",
       "0                               2               356  \n",
       "1                               1                 0  \n",
       "2                               1                88  \n",
       "3                               1               365  \n",
       "4                               1               364  "
      ]
     },
     "execution_count": 4,
     "metadata": {},
     "output_type": "execute_result"
    }
   ],
   "source": [
    "veri = veri.drop(columns=['id','name','host_id','host_name'])\n",
    "veri.head()"
   ]
  },
  {
   "cell_type": "code",
   "execution_count": 5,
   "metadata": {},
   "outputs": [
    {
     "data": {
      "text/plain": [
       "neighbourhood_group               22328\n",
       "neighbourhood                         0\n",
       "latitude                              0\n",
       "longitude                             0\n",
       "room_type                             0\n",
       "price                                 0\n",
       "minimum_nights                        0\n",
       "number_of_reviews                     0\n",
       "last_review                       11599\n",
       "reviews_per_month                 11599\n",
       "calculated_host_listings_count        0\n",
       "availability_365                      0\n",
       "dtype: int64"
      ]
     },
     "execution_count": 5,
     "metadata": {},
     "output_type": "execute_result"
    }
   ],
   "source": [
    "veri.isnull().sum()"
   ]
  },
  {
   "cell_type": "code",
   "execution_count": 6,
   "metadata": {},
   "outputs": [],
   "source": [
    "veri = veri.drop(columns=['neighbourhood_group'])"
   ]
  },
  {
   "cell_type": "code",
   "execution_count": 7,
   "metadata": {},
   "outputs": [],
   "source": [
    "veri = veri.drop(columns=['last_review'])"
   ]
  },
  {
   "cell_type": "code",
   "execution_count": 8,
   "metadata": {},
   "outputs": [
    {
     "data": {
      "text/html": [
       "<div>\n",
       "<style scoped>\n",
       "    .dataframe tbody tr th:only-of-type {\n",
       "        vertical-align: middle;\n",
       "    }\n",
       "\n",
       "    .dataframe tbody tr th {\n",
       "        vertical-align: top;\n",
       "    }\n",
       "\n",
       "    .dataframe thead th {\n",
       "        text-align: right;\n",
       "    }\n",
       "</style>\n",
       "<table border=\"1\" class=\"dataframe\">\n",
       "  <thead>\n",
       "    <tr style=\"text-align: right;\">\n",
       "      <th></th>\n",
       "      <th>neighbourhood</th>\n",
       "      <th>latitude</th>\n",
       "      <th>longitude</th>\n",
       "      <th>room_type</th>\n",
       "      <th>price</th>\n",
       "      <th>minimum_nights</th>\n",
       "      <th>number_of_reviews</th>\n",
       "      <th>calculated_host_listings_count</th>\n",
       "      <th>availability_365</th>\n",
       "    </tr>\n",
       "  </thead>\n",
       "  <tbody>\n",
       "    <tr>\n",
       "      <th>0</th>\n",
       "      <td>Besiktas</td>\n",
       "      <td>41.06984</td>\n",
       "      <td>29.04545</td>\n",
       "      <td>Entire home/apt</td>\n",
       "      <td>965</td>\n",
       "      <td>365</td>\n",
       "      <td>41</td>\n",
       "      <td>2</td>\n",
       "      <td>356</td>\n",
       "    </tr>\n",
       "    <tr>\n",
       "      <th>1</th>\n",
       "      <td>Beyoglu</td>\n",
       "      <td>41.03254</td>\n",
       "      <td>28.98153</td>\n",
       "      <td>Entire home/apt</td>\n",
       "      <td>289</td>\n",
       "      <td>30</td>\n",
       "      <td>10</td>\n",
       "      <td>1</td>\n",
       "      <td>0</td>\n",
       "    </tr>\n",
       "    <tr>\n",
       "      <th>2</th>\n",
       "      <td>Sariyer</td>\n",
       "      <td>41.09048</td>\n",
       "      <td>29.05559</td>\n",
       "      <td>Entire home/apt</td>\n",
       "      <td>1018</td>\n",
       "      <td>3</td>\n",
       "      <td>0</td>\n",
       "      <td>1</td>\n",
       "      <td>88</td>\n",
       "    </tr>\n",
       "    <tr>\n",
       "      <th>3</th>\n",
       "      <td>Beyoglu</td>\n",
       "      <td>41.04844</td>\n",
       "      <td>28.95254</td>\n",
       "      <td>Private room</td>\n",
       "      <td>407</td>\n",
       "      <td>3</td>\n",
       "      <td>0</td>\n",
       "      <td>1</td>\n",
       "      <td>365</td>\n",
       "    </tr>\n",
       "    <tr>\n",
       "      <th>4</th>\n",
       "      <td>Beyoglu</td>\n",
       "      <td>41.03350</td>\n",
       "      <td>28.97626</td>\n",
       "      <td>Private room</td>\n",
       "      <td>952</td>\n",
       "      <td>1</td>\n",
       "      <td>1</td>\n",
       "      <td>1</td>\n",
       "      <td>364</td>\n",
       "    </tr>\n",
       "  </tbody>\n",
       "</table>\n",
       "</div>"
      ],
      "text/plain": [
       "  neighbourhood  latitude  longitude        room_type  price  minimum_nights  \\\n",
       "0      Besiktas  41.06984   29.04545  Entire home/apt    965             365   \n",
       "1       Beyoglu  41.03254   28.98153  Entire home/apt    289              30   \n",
       "2       Sariyer  41.09048   29.05559  Entire home/apt   1018               3   \n",
       "3       Beyoglu  41.04844   28.95254     Private room    407               3   \n",
       "4       Beyoglu  41.03350   28.97626     Private room    952               1   \n",
       "\n",
       "   number_of_reviews  calculated_host_listings_count  availability_365  \n",
       "0                 41                               2               356  \n",
       "1                 10                               1                 0  \n",
       "2                  0                               1                88  \n",
       "3                  0                               1               365  \n",
       "4                  1                               1               364  "
      ]
     },
     "execution_count": 8,
     "metadata": {},
     "output_type": "execute_result"
    }
   ],
   "source": [
    "veri = veri.drop(columns=['reviews_per_month'])\n",
    "veri.head()"
   ]
  },
  {
   "cell_type": "code",
   "execution_count": 9,
   "metadata": {},
   "outputs": [
    {
     "data": {
      "text/html": [
       "<div>\n",
       "<style scoped>\n",
       "    .dataframe tbody tr th:only-of-type {\n",
       "        vertical-align: middle;\n",
       "    }\n",
       "\n",
       "    .dataframe tbody tr th {\n",
       "        vertical-align: top;\n",
       "    }\n",
       "\n",
       "    .dataframe thead th {\n",
       "        text-align: right;\n",
       "    }\n",
       "</style>\n",
       "<table border=\"1\" class=\"dataframe\">\n",
       "  <thead>\n",
       "    <tr style=\"text-align: right;\">\n",
       "      <th></th>\n",
       "      <th>ilce</th>\n",
       "      <th>enlem</th>\n",
       "      <th>boylam</th>\n",
       "      <th>oda_tipi</th>\n",
       "      <th>fiyat</th>\n",
       "      <th>min_gece</th>\n",
       "      <th>degerlendirme_sayisi</th>\n",
       "      <th>host_ev_sayisi</th>\n",
       "      <th>yil_ici_uygunluk</th>\n",
       "    </tr>\n",
       "  </thead>\n",
       "  <tbody>\n",
       "    <tr>\n",
       "      <th>0</th>\n",
       "      <td>Besiktas</td>\n",
       "      <td>41.06984</td>\n",
       "      <td>29.04545</td>\n",
       "      <td>Entire home/apt</td>\n",
       "      <td>965</td>\n",
       "      <td>365</td>\n",
       "      <td>41</td>\n",
       "      <td>2</td>\n",
       "      <td>356</td>\n",
       "    </tr>\n",
       "    <tr>\n",
       "      <th>1</th>\n",
       "      <td>Beyoglu</td>\n",
       "      <td>41.03254</td>\n",
       "      <td>28.98153</td>\n",
       "      <td>Entire home/apt</td>\n",
       "      <td>289</td>\n",
       "      <td>30</td>\n",
       "      <td>10</td>\n",
       "      <td>1</td>\n",
       "      <td>0</td>\n",
       "    </tr>\n",
       "    <tr>\n",
       "      <th>2</th>\n",
       "      <td>Sariyer</td>\n",
       "      <td>41.09048</td>\n",
       "      <td>29.05559</td>\n",
       "      <td>Entire home/apt</td>\n",
       "      <td>1018</td>\n",
       "      <td>3</td>\n",
       "      <td>0</td>\n",
       "      <td>1</td>\n",
       "      <td>88</td>\n",
       "    </tr>\n",
       "    <tr>\n",
       "      <th>3</th>\n",
       "      <td>Beyoglu</td>\n",
       "      <td>41.04844</td>\n",
       "      <td>28.95254</td>\n",
       "      <td>Private room</td>\n",
       "      <td>407</td>\n",
       "      <td>3</td>\n",
       "      <td>0</td>\n",
       "      <td>1</td>\n",
       "      <td>365</td>\n",
       "    </tr>\n",
       "    <tr>\n",
       "      <th>4</th>\n",
       "      <td>Beyoglu</td>\n",
       "      <td>41.03350</td>\n",
       "      <td>28.97626</td>\n",
       "      <td>Private room</td>\n",
       "      <td>952</td>\n",
       "      <td>1</td>\n",
       "      <td>1</td>\n",
       "      <td>1</td>\n",
       "      <td>364</td>\n",
       "    </tr>\n",
       "  </tbody>\n",
       "</table>\n",
       "</div>"
      ],
      "text/plain": [
       "       ilce     enlem    boylam         oda_tipi  fiyat  min_gece  \\\n",
       "0  Besiktas  41.06984  29.04545  Entire home/apt    965       365   \n",
       "1   Beyoglu  41.03254  28.98153  Entire home/apt    289        30   \n",
       "2   Sariyer  41.09048  29.05559  Entire home/apt   1018         3   \n",
       "3   Beyoglu  41.04844  28.95254     Private room    407         3   \n",
       "4   Beyoglu  41.03350  28.97626     Private room    952         1   \n",
       "\n",
       "   degerlendirme_sayisi  host_ev_sayisi  yil_ici_uygunluk  \n",
       "0                    41               2               356  \n",
       "1                    10               1                 0  \n",
       "2                     0               1                88  \n",
       "3                     0               1               365  \n",
       "4                     1               1               364  "
      ]
     },
     "execution_count": 9,
     "metadata": {},
     "output_type": "execute_result"
    }
   ],
   "source": [
    "veri = veri.rename(columns = {'neighbourhood':'ilce','latitude':'enlem','longitude':'boylam','room_type':'oda_tipi','price':'fiyat','minimum_nights':'min_gece','number_of_reviews':'degerlendirme_sayisi','calculated_host_listings_count':'host_ev_sayisi','availability_365':'yil_ici_uygunluk'}) \n",
    "veri.head()"
   ]
  },
  {
   "cell_type": "code",
   "execution_count": 10,
   "metadata": {},
   "outputs": [
    {
     "name": "stdout",
     "output_type": "stream",
     "text": [
      "          ilceler  ilan_sayilari\n",
      "0         Beyoglu           6104\n",
      "1           Sisli           3168\n",
      "2           Fatih           3114\n",
      "3         Kadikoy           2036\n",
      "4        Besiktas           1476\n",
      "5         Uskudar            680\n",
      "6        Esenyurt            638\n",
      "7       Kagithane            616\n",
      "8         Maltepe            350\n",
      "9        Atasehir            348\n",
      "10        Sariyer            321\n",
      "11       Bakirkoy            282\n",
      "12     Basaksehir            237\n",
      "13        Avcilar            221\n",
      "14         Pendik            217\n",
      "15           Eyup            214\n",
      "16       Umraniye            208\n",
      "17   Bahcelievler            196\n",
      "18   Kucukcekmece            187\n",
      "19         Adalar            181\n",
      "20       Bagcilar            176\n",
      "21         Kartal            166\n",
      "22           Sile            164\n",
      "23    Zeytinburnu            116\n",
      "24         Beykoz            115\n",
      "25   Buyukcekmece            106\n",
      "26     Beylikduzu            104\n",
      "27          Tuzla             98\n",
      "28     Arnavutkoy             75\n",
      "29  Gaziosmanpasa             69\n",
      "30       Gungoren             64\n",
      "31       Cekmekoy             54\n",
      "32     Sancaktepe             53\n",
      "33        Silivri             47\n",
      "34        Esenler             42\n",
      "35     Bayrampasa             33\n",
      "36        Catalca             19\n",
      "37     Sultangazi             17\n",
      "38    Sultanbeyli             16\n"
     ]
    },
    {
     "data": {
      "image/png": "[encoded data removed]",
      "text/plain": [
       "<Figure size 1080x360 with 1 Axes>"
      ]
     },
     "metadata": {},
     "output_type": "display_data"
    }
   ],
   "source": [
    "ilce_verisi = veri[\"ilce\"].value_counts().rename_axis('ilceler').reset_index(name='ilan_sayilari')\n",
    "print(ilce_verisi)\n",
    "sns.set_theme(style=\"darkgrid\")\n",
    "sns.set(rc={'figure.figsize':(15,5)})\n",
    "ax = sns.barplot(x=\"ilceler\", y=\"ilan_sayilari\", data=ilce_verisi)\n",
    "\n",
    "for item in ax.get_xticklabels():\n",
    "    item.set_rotation(90)"
   ]
  },
  {
   "cell_type": "code",
   "execution_count": 11,
   "metadata": {},
   "outputs": [
    {
     "name": "stdout",
     "output_type": "stream",
     "text": [
      "       oda_tipleri  ilan_sayilari\n",
      "0  Entire home/apt          11240\n",
      "1     Private room           9620\n",
      "2       Hotel room            832\n",
      "3      Shared room            636\n"
     ]
    },
    {
     "data": {
      "image/png": "[encoded data removed]",
      "text/plain": [
       "<Figure size 720x504 with 1 Axes>"
      ]
     },
     "metadata": {},
     "output_type": "display_data"
    }
   ],
   "source": [
    "oda_verisi = veri[\"oda_tipi\"].value_counts().rename_axis('oda_tipleri').reset_index(name='ilan_sayilari')\n",
    "print(oda_verisi)\n",
    "sns.set_theme(style=\"darkgrid\") \n",
    "sns.set(rc={'figure.figsize':(10,7)})\n",
    "\n",
    "ax = sns.barplot(x=\"oda_tipleri\", y=\"ilan_sayilari\", data=oda_verisi)\n"
   ]
  },
  {
   "cell_type": "code",
   "execution_count": 12,
   "metadata": {},
   "outputs": [
    {
     "name": "stdout",
     "output_type": "stream",
     "text": [
      "    min_gece  gece_sayisi\n",
      "0          1        12579\n",
      "1          2         3977\n",
      "2          3         2415\n",
      "3          5          687\n",
      "4          7          686\n",
      "..       ...          ...\n",
      "57       730            1\n",
      "58        75            1\n",
      "59        92            1\n",
      "60        61            1\n",
      "61        16            1\n",
      "\n",
      "[62 rows x 2 columns]\n"
     ]
    },
    {
     "data": {
      "image/png": "[encoded data removed]",
      "text/plain": [
       "<Figure size 1080x360 with 1 Axes>"
      ]
     },
     "metadata": {},
     "output_type": "display_data"
    }
   ],
   "source": [
    "gece = veri[\"min_gece\"].value_counts().rename_axis('min_gece').reset_index(name='gece_sayisi')\n",
    "print(gece)\n",
    "sns.set_theme(style=\"darkgrid\") \n",
    "sns.set(rc={'figure.figsize':(15,5)}) \n",
    "ax = sns.barplot(x=\"min_gece\", y=\"gece_sayisi\", data=gece) \n",
    "\n",
    "for item in ax.get_xticklabels():\n",
    "    item.set_rotation(90)"
   ]
  },
  {
   "cell_type": "code",
   "execution_count": 13,
   "metadata": {},
   "outputs": [
    {
     "name": "stdout",
     "output_type": "stream",
     "text": [
      "   degerlendirme  toplam_degerlendirme\n",
      "0              0                 11599\n",
      "1              1                  2750\n",
      "2              2                  1373\n",
      "3              3                   821\n",
      "4              4                   555\n",
      "5              5                   433\n",
      "6              6                   367\n",
      "7              7                   292\n",
      "8              8                   249\n",
      "9              9                   234\n"
     ]
    },
    {
     "data": {
      "image/png": "[encoded data removed]",
      "text/plain": [
       "<Figure size 1080x360 with 1 Axes>"
      ]
     },
     "metadata": {},
     "output_type": "display_data"
    }
   ],
   "source": [
    "gece = veri[\"degerlendirme_sayisi\"].sort_values().value_counts().head(10).rename_axis('degerlendirme').reset_index(name='toplam_degerlendirme')\n",
    "print(gece)\n",
    "sns.set_theme(style=\"darkgrid\")\n",
    "sns.set(rc={'figure.figsize':(15,5)}) \n",
    "\n",
    "ax = sns.barplot(x=\"degerlendirme\", y=\"toplam_degerlendirme\", data=gece)\n",
    "\n",
    "for item in ax.get_xticklabels(): \n",
    "    item.set_rotation(90)"
   ]
  },
  {
   "cell_type": "code",
   "execution_count": 14,
   "metadata": {},
   "outputs": [
    {
     "name": "stdout",
     "output_type": "stream",
     "text": [
      "   degerlendirme  toplam_degerlendirme\n",
      "0              0                 11599\n",
      "1              1                  2750\n",
      "2              2                  1373\n",
      "3              3                   821\n",
      "4              4                   555\n",
      "5              5                   433\n",
      "6              6                   367\n",
      "7              7                   292\n",
      "8              8                   249\n",
      "9              9                   234\n"
     ]
    },
    {
     "data": {
      "image/png": "[encoded data removed]",
      "text/plain": [
       "<Figure size 1080x360 with 1 Axes>"
      ]
     },
     "metadata": {},
     "output_type": "display_data"
    }
   ],
   "source": [
    "host_ilan = veri[\"host_ev_sayisi\"].sort_values().value_counts().head(10).rename_axis('host_ilan_sayisi').reset_index(name='host_sayisi')\n",
    "print(gece)\n",
    "sns.set_theme(style=\"darkgrid\")  \n",
    "sns.set(rc={'figure.figsize':(15,5)}) \n",
    "\n",
    "ax = sns.barplot(x=\"host_ilan_sayisi\", y=\"host_sayisi\", data=host_ilan)\n"
   ]
  },
  {
   "cell_type": "code",
   "execution_count": 15,
   "metadata": {},
   "outputs": [
    {
     "name": "stdout",
     "output_type": "stream",
     "text": [
      "   degerlendirme  toplam_degerlendirme\n",
      "0              0                 11599\n",
      "1              1                  2750\n",
      "2              2                  1373\n",
      "3              3                   821\n",
      "4              4                   555\n",
      "5              5                   433\n",
      "6              6                   367\n",
      "7              7                   292\n",
      "8              8                   249\n",
      "9              9                   234\n"
     ]
    },
    {
     "data": {
      "image/png": "[encoded data removed]",
      "text/plain": [
       "<Figure size 1080x360 with 1 Axes>"
      ]
     },
     "metadata": {},
     "output_type": "display_data"
    }
   ],
   "source": [
    "yil_ici_uygunluk = veri[\"yil_ici_uygunluk\"].sort_values(ascending=False).value_counts().head(10).rename_axis('uygunluk').reset_index(name='host')\n",
    "print(gece)\n",
    "sns.set_theme(style=\"darkgrid\")  \n",
    "sns.set(rc={'figure.figsize':(15,5)}) \n",
    "\n",
    "ax = sns.barplot(x=\"uygunluk\", y=\"host\", data=yil_ici_uygunluk) \n",
    "\n",
    "for item in ax.get_xticklabels(): \n",
    "    item.set_rotation(90)"
   ]
  },
  {
   "cell_type": "code",
   "execution_count": 16,
   "metadata": {},
   "outputs": [],
   "source": [
    "# UPDATING ...\n",
    "# Enes Çavuş"
   ]
  },
  {
   "cell_type": "code",
   "execution_count": null,
   "metadata": {},
   "outputs": [],
   "source": []
  },
  {
   "cell_type": "code",
   "execution_count": null,
   "metadata": {},
   "outputs": [],
   "source": []
  }
 ],
 "metadata": {
  "kernelspec": {
   "display_name": "Python 3",
   "language": "python",
   "name": "python3"
  },
  "language_info": {
   "codemirror_mode": {
    "name": "ipython",
    "version": 3
   },
   "file_extension": ".py",
   "mimetype": "text/x-python",
   "name": "python",
   "nbconvert_exporter": "python",
   "pygments_lexer": "ipython3",
   "version": "3.7.0"
  }
 },
 "nbformat": 4,
 "nbformat_minor": 4
}
