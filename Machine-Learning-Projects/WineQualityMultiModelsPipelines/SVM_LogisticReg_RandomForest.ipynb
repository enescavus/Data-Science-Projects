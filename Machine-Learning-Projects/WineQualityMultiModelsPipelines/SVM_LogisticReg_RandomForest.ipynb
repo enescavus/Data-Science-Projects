{
 "cells": [
  {
   "cell_type": "code",
   "execution_count": 1,
   "id": "f0dc75c8",
   "metadata": {},
   "outputs": [],
   "source": [
    "# author     : Enes Çavuş\n",
    "# date       : July 2021\n",
    "# subject    : Data Preprocessing and Applying SVM-LR-DecisionTree-RandomForest Machine Lerning Algorithms"
   ]
  },
  {
   "cell_type": "markdown",
   "id": "51e75b73",
   "metadata": {},
   "source": [
    "---\n",
    "- Aiming to understand SVM - LR - Random Forest Machine Learning Models\n",
    "- Manipulationn of data\n",
    "---"
   ]
  },
  {
   "cell_type": "code",
   "execution_count": 2,
   "id": "d2879a60",
   "metadata": {},
   "outputs": [],
   "source": [
    "# common libraries\n",
    "import pandas as pd\n",
    "import numpy as np\n",
    "import matplotlib.pyplot as plt\n",
    "import seaborn as sns\n",
    "%matplotlib inline \n",
    "import warnings\n",
    "warnings.filterwarnings(\"ignore\")\n",
    "\n",
    "# sklearn machine learning models and preprocessing modules\n",
    "from sklearn.preprocessing import StandardScaler\n",
    "from sklearn.pipeline import Pipeline\n",
    "from sklearn.utils import shuffle\n",
    "\n",
    "from sklearn.svm import LinearSVC,SVC\n",
    "from sklearn.metrics import plot_confusion_matrix, classification_report, plot_roc_curve\n",
    "from sklearn.model_selection import train_test_split"
   ]
  },
  {
   "cell_type": "code",
   "execution_count": 3,
   "id": "d29068f1",
   "metadata": {},
   "outputs": [
    {
     "data": {
      "text/html": [
       "<div>\n",
       "<style scoped>\n",
       "    .dataframe tbody tr th:only-of-type {\n",
       "        vertical-align: middle;\n",
       "    }\n",
       "\n",
       "    .dataframe tbody tr th {\n",
       "        vertical-align: top;\n",
       "    }\n",
       "\n",
       "    .dataframe thead th {\n",
       "        text-align: right;\n",
       "    }\n",
       "</style>\n",
       "<table border=\"1\" class=\"dataframe\">\n",
       "  <thead>\n",
       "    <tr style=\"text-align: right;\">\n",
       "      <th></th>\n",
       "      <th>fixed acidity</th>\n",
       "      <th>volatile acidity</th>\n",
       "      <th>citric acid</th>\n",
       "      <th>residual sugar</th>\n",
       "      <th>chlorides</th>\n",
       "      <th>free sulfur dioxide</th>\n",
       "      <th>total sulfur dioxide</th>\n",
       "      <th>density</th>\n",
       "      <th>pH</th>\n",
       "      <th>sulphates</th>\n",
       "      <th>alcohol</th>\n",
       "      <th>quality</th>\n",
       "    </tr>\n",
       "  </thead>\n",
       "  <tbody>\n",
       "    <tr>\n",
       "      <th>1004</th>\n",
       "      <td>5.8</td>\n",
       "      <td>0.36</td>\n",
       "      <td>0.26</td>\n",
       "      <td>3.3</td>\n",
       "      <td>0.038</td>\n",
       "      <td>40.0</td>\n",
       "      <td>153.0</td>\n",
       "      <td>0.99110</td>\n",
       "      <td>3.34</td>\n",
       "      <td>0.55</td>\n",
       "      <td>11.3</td>\n",
       "      <td>6</td>\n",
       "    </tr>\n",
       "    <tr>\n",
       "      <th>2325</th>\n",
       "      <td>7.0</td>\n",
       "      <td>0.35</td>\n",
       "      <td>0.17</td>\n",
       "      <td>1.1</td>\n",
       "      <td>0.049</td>\n",
       "      <td>7.0</td>\n",
       "      <td>119.0</td>\n",
       "      <td>0.99297</td>\n",
       "      <td>3.13</td>\n",
       "      <td>0.36</td>\n",
       "      <td>9.7</td>\n",
       "      <td>6</td>\n",
       "    </tr>\n",
       "    <tr>\n",
       "      <th>3406</th>\n",
       "      <td>5.6</td>\n",
       "      <td>0.32</td>\n",
       "      <td>0.33</td>\n",
       "      <td>7.4</td>\n",
       "      <td>0.037</td>\n",
       "      <td>25.0</td>\n",
       "      <td>95.0</td>\n",
       "      <td>0.99268</td>\n",
       "      <td>3.25</td>\n",
       "      <td>0.49</td>\n",
       "      <td>11.1</td>\n",
       "      <td>6</td>\n",
       "    </tr>\n",
       "    <tr>\n",
       "      <th>823</th>\n",
       "      <td>6.7</td>\n",
       "      <td>0.19</td>\n",
       "      <td>0.23</td>\n",
       "      <td>6.2</td>\n",
       "      <td>0.047</td>\n",
       "      <td>36.0</td>\n",
       "      <td>117.0</td>\n",
       "      <td>0.99450</td>\n",
       "      <td>3.34</td>\n",
       "      <td>0.43</td>\n",
       "      <td>9.6</td>\n",
       "      <td>6</td>\n",
       "    </tr>\n",
       "    <tr>\n",
       "      <th>4450</th>\n",
       "      <td>6.9</td>\n",
       "      <td>0.29</td>\n",
       "      <td>0.25</td>\n",
       "      <td>12.2</td>\n",
       "      <td>0.040</td>\n",
       "      <td>29.0</td>\n",
       "      <td>136.0</td>\n",
       "      <td>0.99552</td>\n",
       "      <td>3.05</td>\n",
       "      <td>0.65</td>\n",
       "      <td>10.4</td>\n",
       "      <td>6</td>\n",
       "    </tr>\n",
       "  </tbody>\n",
       "</table>\n",
       "</div>"
      ],
      "text/plain": [
       "      fixed acidity  volatile acidity  citric acid  residual sugar  chlorides  \\\n",
       "1004            5.8              0.36         0.26             3.3      0.038   \n",
       "2325            7.0              0.35         0.17             1.1      0.049   \n",
       "3406            5.6              0.32         0.33             7.4      0.037   \n",
       "823             6.7              0.19         0.23             6.2      0.047   \n",
       "4450            6.9              0.29         0.25            12.2      0.040   \n",
       "\n",
       "      free sulfur dioxide  total sulfur dioxide  density    pH  sulphates  \\\n",
       "1004                 40.0                 153.0  0.99110  3.34       0.55   \n",
       "2325                  7.0                 119.0  0.99297  3.13       0.36   \n",
       "3406                 25.0                  95.0  0.99268  3.25       0.49   \n",
       "823                  36.0                 117.0  0.99450  3.34       0.43   \n",
       "4450                 29.0                 136.0  0.99552  3.05       0.65   \n",
       "\n",
       "      alcohol  quality  \n",
       "1004     11.3        6  \n",
       "2325      9.7        6  \n",
       "3406     11.1        6  \n",
       "823       9.6        6  \n",
       "4450     10.4        6  "
      ]
     },
     "execution_count": 3,
     "metadata": {},
     "output_type": "execute_result"
    }
   ],
   "source": [
    "# data import - load\n",
    "wine = pd.read_csv(\"datasets/winequality-white.csv\", sep=';')\n",
    "wine = shuffle(wine)\n",
    "wine.head()"
   ]
  },
  {
   "cell_type": "code",
   "execution_count": 4,
   "id": "d41ab23b",
   "metadata": {},
   "outputs": [
    {
     "data": {
      "text/plain": [
       "[3, 4, 5, 6, 7, 8, 9]"
      ]
     },
     "execution_count": 4,
     "metadata": {},
     "output_type": "execute_result"
    }
   ],
   "source": [
    "# quality range\n",
    "qualities = wine[\"quality\"].unique()\n",
    "sorted(qualities) # 7,8,9 high quality = 1 ----------- 3,4,5,6 low quality 0"
   ]
  },
  {
   "cell_type": "code",
   "execution_count": 5,
   "id": "69e76f71",
   "metadata": {},
   "outputs": [
    {
     "data": {
      "text/plain": [
       "[0, 1]"
      ]
     },
     "execution_count": 5,
     "metadata": {},
     "output_type": "execute_result"
    }
   ],
   "source": [
    "# binning qualities to make this machine learning process easier\n",
    "bin_wine = wine.copy()\n",
    "bin_wine.quality = bin_wine.quality.replace([7,8,9],1)\n",
    "bin_wine.quality = bin_wine.quality.replace([3,4,5,6],0)\n",
    "qualities = bin_wine[\"quality\"].unique()\n",
    "sorted(qualities)"
   ]
  },
  {
   "cell_type": "code",
   "execution_count": 6,
   "id": "4ecfcc5f",
   "metadata": {},
   "outputs": [],
   "source": [
    "# getting data ready to machine learning concets - this notebook focusing on ml algorithms not on preprocessing\n",
    "X = bin_wine.drop(\"quality\", axis=1)\n",
    "y = bin_wine[\"quality\"]\n",
    "\n",
    "X_train, X_test, y_train, y_test = train_test_split(X,y, random_state=42, test_size=0.2)"
   ]
  },
  {
   "cell_type": "code",
   "execution_count": 7,
   "id": "f2b9b565",
   "metadata": {},
   "outputs": [
    {
     "name": "stdout",
     "output_type": "stream",
     "text": [
      "              precision    recall  f1-score   support\n",
      "\n",
      "           0       0.79      1.00      0.89       778\n",
      "           1       0.00      0.00      0.00       202\n",
      "\n",
      "    accuracy                           0.79       980\n",
      "   macro avg       0.40      0.50      0.44       980\n",
      "weighted avg       0.63      0.79      0.70       980\n",
      "\n"
     ]
    },
    {
     "data": {
      "text/plain": [
       "<sklearn.metrics._plot.roc_curve.RocCurveDisplay at 0x11b5fb820>"
      ]
     },
     "execution_count": 7,
     "metadata": {},
     "output_type": "execute_result"
    },
    {
     "data": {
      "image/png": "[encoded data removed]",
      "text/plain": [
       "<Figure size 432x288 with 1 Axes>"
      ]
     },
     "metadata": {
      "needs_background": "light"
     },
     "output_type": "display_data"
    }
   ],
   "source": [
    "svm_clf = Pipeline([\n",
    "    ('scaler', StandardScaler()),\n",
    "    ('linear_svc', LinearSVC(C=1,loss='hinge'))\n",
    "])\n",
    "\n",
    "svm_clf.fit(X_train, y_train)\n",
    "pred = svm_clf.predict(X_test)\n",
    "print(classification_report(y_test, pred))\n",
    "plot_roc_curve(svm_clf, X_test, y_test)"
   ]
  },
  {
   "cell_type": "code",
   "execution_count": 8,
   "id": "055a0549",
   "metadata": {},
   "outputs": [
    {
     "name": "stdout",
     "output_type": "stream",
     "text": [
      "84.48979591836735\n",
      "              precision    recall  f1-score   support\n",
      "\n",
      "           0       0.88      0.93      0.91       778\n",
      "           1       0.66      0.50      0.57       202\n",
      "\n",
      "    accuracy                           0.84       980\n",
      "   macro avg       0.77      0.72      0.74       980\n",
      "weighted avg       0.83      0.84      0.84       980\n",
      "\n"
     ]
    },
    {
     "data": {
      "text/plain": [
       "<sklearn.metrics._plot.roc_curve.RocCurveDisplay at 0x112792b80>"
      ]
     },
     "execution_count": 8,
     "metadata": {},
     "output_type": "execute_result"
    },
    {
     "data": {
      "image/png": "[encoded data removed]",
      "text/plain": [
       "<Figure size 432x288 with 1 Axes>"
      ]
     },
     "metadata": {
      "needs_background": "light"
     },
     "output_type": "display_data"
    }
   ],
   "source": [
    "# SVC \n",
    "svc = Pipeline([\n",
    "    ('scaler', StandardScaler()),\n",
    "    ('svc', SVC(C=10,kernel='rbf'))\n",
    "])\n",
    "\n",
    "svc.fit(X_train, y_train)\n",
    "pred = svc.predict(X_test)\n",
    "acc = svc.score(X_test,y_test) * 100\n",
    "print(acc)\n",
    "print(classification_report(y_test, pred))\n",
    "plot_roc_curve(svc, X_test, y_test)"
   ]
  },
  {
   "cell_type": "code",
   "execution_count": 9,
   "id": "7ba27cd2",
   "metadata": {},
   "outputs": [],
   "source": [
    "from sklearn.feature_extraction.text import CountVectorizer\n",
    "from sklearn import feature_extraction, linear_model, model_selection, preprocessing\n",
    "from sklearn.metrics import accuracy_score\n",
    "from sklearn.linear_model import LogisticRegression"
   ]
  },
  {
   "cell_type": "code",
   "execution_count": 10,
   "id": "f73f274d",
   "metadata": {},
   "outputs": [],
   "source": [
    "from sklearn.pipeline import Pipeline\n",
    "from sklearn.model_selection import GridSearchCV\n",
    "from sklearn.metrics import accuracy_score\n",
    "from sklearn.tree import DecisionTreeClassifier\n",
    "from sklearn.linear_model import LogisticRegression\n",
    "from sklearn.ensemble import RandomForestClassifier\n",
    "from sklearn import svm\n"
   ]
  },
  {
   "cell_type": "code",
   "execution_count": 11,
   "id": "b4fd4d0b",
   "metadata": {},
   "outputs": [],
   "source": [
    "# making ml process automated - gettign ready 4 different algorithms at once\n",
    "pipe_lr = Pipeline([('scaler', StandardScaler()),\n",
    "                ('clf', LogisticRegression(random_state=42))])\n",
    "\n",
    "pipe_dt = Pipeline([('scaler', StandardScaler()),\n",
    "                 ('model', DecisionTreeClassifier(random_state=42))])\n",
    "\n",
    "pipe_rf = Pipeline([('scaler', StandardScaler()),\n",
    "            ('clf', RandomForestClassifier(random_state=42))])\n",
    "\n",
    "\n",
    "pipe_svm = Pipeline([('scaler', StandardScaler()),\n",
    "            ('clf', svm.SVC(random_state=42))])"
   ]
  },
  {
   "cell_type": "code",
   "execution_count": 12,
   "id": "16429b38",
   "metadata": {
    "scrolled": true
   },
   "outputs": [
    {
     "name": "stdout",
     "output_type": "stream",
     "text": [
      "Performing model optimizations...\n",
      "\n",
      "Estimator: Logistic Regression\n",
      "Best params are : {'clf__C': 1.0, 'clf__penalty': 'l1', 'clf__solver': 'liblinear'}\n",
      "Best training accuracy: 0.798\n",
      "Test set accuracy score for best params: 0.806 \n",
      "\n",
      "Estimator: Random Forest\n",
      "Best params are : {'clf__criterion': 'gini', 'clf__max_depth': 10, 'clf__min_samples_split': 10}\n",
      "Best training accuracy: 0.852\n",
      "Test set accuracy score for best params: 0.858 \n",
      "\n",
      "Estimator: Support Vector Machine\n",
      "Best params are : {'clf__C': 10, 'clf__kernel': 'rbf'}\n",
      "Best training accuracy: 0.834\n",
      "Test set accuracy score for best params: 0.845 \n",
      "\n",
      "Classifier with best test set accuracy: Random Forest\n"
     ]
    }
   ],
   "source": [
    "# Set grid search params\n",
    "param_range = [9, 10]\n",
    "param_range_fl = [1.0, 0.5]\n",
    "\n",
    "grid_params_lr = [{'clf__penalty': ['l1', 'l2'],\n",
    "        'clf__C': param_range_fl,\n",
    "        'clf__solver': ['liblinear']}] \n",
    "\n",
    "grid_params_rf = [{'clf__criterion': ['gini', 'entropy'],\n",
    "        'clf__max_depth': param_range,\n",
    "        'clf__min_samples_split': param_range[1:]}]\n",
    "\n",
    "grid_params_svm = [{'clf__kernel': ['linear', 'rbf'], \n",
    "        'clf__C': param_range}]\n",
    "\n",
    "# Construct grid searches\n",
    "jobs = -1\n",
    "\n",
    "LR = GridSearchCV(estimator=pipe_lr,\n",
    "            param_grid=grid_params_lr,\n",
    "            scoring='accuracy',\n",
    "            cv=10) \n",
    "\n",
    "RF = GridSearchCV(estimator=pipe_rf,\n",
    "            param_grid=grid_params_rf,\n",
    "            scoring='accuracy',\n",
    "            cv=10, \n",
    "            n_jobs=jobs)\n",
    "\n",
    "SVM = GridSearchCV(estimator=pipe_svm,\n",
    "            param_grid=grid_params_svm,\n",
    "            scoring='accuracy',\n",
    "            cv=10,\n",
    "            n_jobs=jobs)\n",
    "\n",
    "# List of pipelines for iterating through each of them\n",
    "grids = [LR,RF,SVM]\n",
    "\n",
    "# Creating a dict for our reference\n",
    "grid_dict = {0: 'Logistic Regression', \n",
    "        1: 'Random Forest',\n",
    "        2: 'Support Vector Machine'}\n",
    "\n",
    "# Fit the grid search objects\n",
    "print('Performing model optimizations...')\n",
    "best_acc = 0.0\n",
    "best_clf = 0\n",
    "best_gs = ''\n",
    "for idx, gs in enumerate(grids):\n",
    "    print('\\nEstimator: %s' % grid_dict[idx])\n",
    "    gs.fit(X_train, y_train)\n",
    "    print('Best params are : %s' % gs.best_params_)\n",
    "    # Best training data accuracy\n",
    "    print('Best training accuracy: %.3f' % gs.best_score_)\n",
    "    # Predict on test data with best params\n",
    "    y_pred = gs.predict(X_test)\n",
    "    # Test data accuracy of model with best params\n",
    "    print('Test set accuracy score for best params: %.3f ' % accuracy_score(y_test, y_pred))\n",
    "    # Track best (highest test accuracy) model\n",
    "    if accuracy_score(y_test, y_pred) > best_acc:\n",
    "        best_acc = accuracy_score(y_test, y_pred)\n",
    "        best_gs = gs\n",
    "        best_clf = idx\n",
    "print('\\nClassifier with best test set accuracy: %s' % grid_dict[best_clf])"
   ]
  },
  {
   "cell_type": "code",
   "execution_count": 13,
   "id": "395467fc",
   "metadata": {},
   "outputs": [
    {
     "data": {
      "text/plain": [
       "GridSearchCV(cv=10,\n",
       "             estimator=Pipeline(steps=[('scaler', StandardScaler()),\n",
       "                                       ('clf',\n",
       "                                        RandomForestClassifier(random_state=42))]),\n",
       "             n_jobs=-1,\n",
       "             param_grid=[{'clf__criterion': ['gini', 'entropy'],\n",
       "                          'clf__max_depth': [9, 10],\n",
       "                          'clf__min_samples_split': [10]}],\n",
       "             scoring='accuracy')"
      ]
     },
     "execution_count": 13,
     "metadata": {},
     "output_type": "execute_result"
    }
   ],
   "source": [
    "best_gs"
   ]
  },
  {
   "cell_type": "code",
   "execution_count": 14,
   "id": "cfe5fbca",
   "metadata": {},
   "outputs": [
    {
     "name": "stdout",
     "output_type": "stream",
     "text": [
      "85.81632653061224\n",
      "              precision    recall  f1-score   support\n",
      "\n",
      "           0       0.89      0.94      0.91       778\n",
      "           1       0.71      0.53      0.61       202\n",
      "\n",
      "    accuracy                           0.86       980\n",
      "   macro avg       0.80      0.74      0.76       980\n",
      "weighted avg       0.85      0.86      0.85       980\n",
      "\n"
     ]
    }
   ],
   "source": [
    "# last training with best model and parameters\n",
    "\n",
    "bestModel = best_gs\n",
    "bestModel.fit(X_train, y_train)\n",
    "pred = bestModel.predict(X_test)\n",
    "acc = bestModel.score(X_test,y_test) * 100\n",
    "print(acc)\n",
    "print(classification_report(y_test, pred))"
   ]
  },
  {
   "cell_type": "code",
   "execution_count": 15,
   "id": "696818ea",
   "metadata": {},
   "outputs": [
    {
     "name": "stdout",
     "output_type": "stream",
     "text": [
      "83.46938775510205\n",
      "              precision    recall  f1-score   support\n",
      "\n",
      "           0       0.87      0.93      0.90       778\n",
      "           1       0.64      0.46      0.53       202\n",
      "\n",
      "    accuracy                           0.83       980\n",
      "   macro avg       0.75      0.70      0.72       980\n",
      "weighted avg       0.82      0.83      0.82       980\n",
      "\n"
     ]
    }
   ],
   "source": [
    "# trying some extras with SVC polynomialFeatures\n",
    "from sklearn.preprocessing import PolynomialFeatures\n",
    "# SVC \n",
    "svc = Pipeline([\n",
    "    ('poly_trans',PolynomialFeatures()),\n",
    "    ('scaler', StandardScaler()),\n",
    "    ('svc', SVC(C=10,kernel='rbf'))\n",
    "])\n",
    "\n",
    "svc.fit(X_train, y_train)\n",
    "pred = svc.predict(X_test)\n",
    "acc = svc.score(X_test,y_test) * 100\n",
    "print(acc)\n",
    "print(classification_report(y_test, pred))"
   ]
  },
  {
   "cell_type": "markdown",
   "id": "6741fcf2",
   "metadata": {},
   "source": [
    "___ENES ÇAVUŞ - ML PRACTICES - SVM - LR - Decision Tree - Random Forest___"
   ]
  },
  {
   "cell_type": "code",
   "execution_count": null,
   "id": "6d1bc379",
   "metadata": {},
   "outputs": [],
   "source": []
  }
 ],
 "metadata": {
  "kernelspec": {
   "display_name": "Python 3 (ipykernel)",
   "language": "python",
   "name": "python3"
  },
  "language_info": {
   "codemirror_mode": {
    "name": "ipython",
    "version": 3
   },
   "file_extension": ".py",
   "mimetype": "text/x-python",
   "name": "python",
   "nbconvert_exporter": "python",
   "pygments_lexer": "ipython3",
   "version": "3.8.1"
  }
 },
 "nbformat": 4,
 "nbformat_minor": 5
}
