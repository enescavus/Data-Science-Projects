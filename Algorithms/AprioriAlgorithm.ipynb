{
 "cells": [
  {
   "cell_type": "code",
   "execution_count": 228,
   "metadata": {},
   "outputs": [],
   "source": [
    "import pandas as pd"
   ]
  },
  {
   "cell_type": "code",
   "execution_count": 229,
   "metadata": {},
   "outputs": [],
   "source": [
    "data_set = pd.read_excel('Data.xlsx') # this file is only in my local machine\n",
    "import os\n",
    "path = 'Dataset/'\n",
    "data_set.to_csv(os.path.join(path+r'data.csv'))"
   ]
  },
  {
   "cell_type": "code",
   "execution_count": 230,
   "metadata": {},
   "outputs": [
    {
     "data": {
      "text/html": [
       "<div>\n",
       "<style scoped>\n",
       "    .dataframe tbody tr th:only-of-type {\n",
       "        vertical-align: middle;\n",
       "    }\n",
       "\n",
       "    .dataframe tbody tr th {\n",
       "        vertical-align: top;\n",
       "    }\n",
       "\n",
       "    .dataframe thead th {\n",
       "        text-align: right;\n",
       "    }\n",
       "</style>\n",
       "<table border=\"1\" class=\"dataframe\">\n",
       "  <thead>\n",
       "    <tr style=\"text-align: right;\">\n",
       "      <th></th>\n",
       "      <th>Unnamed: 0</th>\n",
       "      <th>Gender</th>\n",
       "      <th>Age</th>\n",
       "      <th>Height</th>\n",
       "      <th>Weight</th>\n",
       "      <th>Blood</th>\n",
       "      <th>relative_headache</th>\n",
       "    </tr>\n",
       "  </thead>\n",
       "  <tbody>\n",
       "    <tr>\n",
       "      <th>0</th>\n",
       "      <td>0</td>\n",
       "      <td>female</td>\n",
       "      <td>18</td>\n",
       "      <td>165</td>\n",
       "      <td>53</td>\n",
       "      <td>A Rh+</td>\n",
       "      <td>yes</td>\n",
       "    </tr>\n",
       "    <tr>\n",
       "      <th>1</th>\n",
       "      <td>1</td>\n",
       "      <td>female</td>\n",
       "      <td>18</td>\n",
       "      <td>171</td>\n",
       "      <td>60</td>\n",
       "      <td>0 Rh+</td>\n",
       "      <td>yes</td>\n",
       "    </tr>\n",
       "    <tr>\n",
       "      <th>2</th>\n",
       "      <td>2</td>\n",
       "      <td>male</td>\n",
       "      <td>19</td>\n",
       "      <td>167</td>\n",
       "      <td>73</td>\n",
       "      <td>0 Rh+</td>\n",
       "      <td>yes</td>\n",
       "    </tr>\n",
       "    <tr>\n",
       "      <th>3</th>\n",
       "      <td>3</td>\n",
       "      <td>male</td>\n",
       "      <td>18</td>\n",
       "      <td>170</td>\n",
       "      <td>65</td>\n",
       "      <td>AB Rh+</td>\n",
       "      <td>no</td>\n",
       "    </tr>\n",
       "    <tr>\n",
       "      <th>4</th>\n",
       "      <td>4</td>\n",
       "      <td>male</td>\n",
       "      <td>18</td>\n",
       "      <td>183</td>\n",
       "      <td>76</td>\n",
       "      <td>0 Rh+</td>\n",
       "      <td>no</td>\n",
       "    </tr>\n",
       "    <tr>\n",
       "      <th>5</th>\n",
       "      <td>5</td>\n",
       "      <td>male</td>\n",
       "      <td>20</td>\n",
       "      <td>179</td>\n",
       "      <td>100</td>\n",
       "      <td>0 Rh+</td>\n",
       "      <td>no</td>\n",
       "    </tr>\n",
       "    <tr>\n",
       "      <th>6</th>\n",
       "      <td>6</td>\n",
       "      <td>male</td>\n",
       "      <td>18</td>\n",
       "      <td>175</td>\n",
       "      <td>72</td>\n",
       "      <td>A Rh+</td>\n",
       "      <td>yes</td>\n",
       "    </tr>\n",
       "    <tr>\n",
       "      <th>7</th>\n",
       "      <td>7</td>\n",
       "      <td>male</td>\n",
       "      <td>18</td>\n",
       "      <td>175</td>\n",
       "      <td>90</td>\n",
       "      <td>0 Rh+</td>\n",
       "      <td>yes</td>\n",
       "    </tr>\n",
       "    <tr>\n",
       "      <th>8</th>\n",
       "      <td>8</td>\n",
       "      <td>male</td>\n",
       "      <td>18</td>\n",
       "      <td>179</td>\n",
       "      <td>61</td>\n",
       "      <td>0 Rh+</td>\n",
       "      <td>yes</td>\n",
       "    </tr>\n",
       "    <tr>\n",
       "      <th>9</th>\n",
       "      <td>9</td>\n",
       "      <td>female</td>\n",
       "      <td>18</td>\n",
       "      <td>163</td>\n",
       "      <td>57</td>\n",
       "      <td>A Rh+</td>\n",
       "      <td>yes</td>\n",
       "    </tr>\n",
       "    <tr>\n",
       "      <th>10</th>\n",
       "      <td>10</td>\n",
       "      <td>male</td>\n",
       "      <td>18</td>\n",
       "      <td>181</td>\n",
       "      <td>82</td>\n",
       "      <td>B Rh+</td>\n",
       "      <td>yes</td>\n",
       "    </tr>\n",
       "    <tr>\n",
       "      <th>11</th>\n",
       "      <td>11</td>\n",
       "      <td>male</td>\n",
       "      <td>18</td>\n",
       "      <td>177</td>\n",
       "      <td>81</td>\n",
       "      <td>0 Rh+</td>\n",
       "      <td>yes</td>\n",
       "    </tr>\n",
       "    <tr>\n",
       "      <th>12</th>\n",
       "      <td>12</td>\n",
       "      <td>male</td>\n",
       "      <td>19</td>\n",
       "      <td>181</td>\n",
       "      <td>93</td>\n",
       "      <td>0 Rh+</td>\n",
       "      <td>yes</td>\n",
       "    </tr>\n",
       "  </tbody>\n",
       "</table>\n",
       "</div>"
      ],
      "text/plain": [
       "    Unnamed: 0  Gender  Age  Height  Weight   Blood relative_headache\n",
       "0            0  female   18     165      53   A Rh+               yes\n",
       "1            1  female   18     171      60   0 Rh+               yes\n",
       "2            2    male   19     167      73   0 Rh+               yes\n",
       "3            3    male   18     170      65  AB Rh+                no\n",
       "4            4    male   18     183      76   0 Rh+                no\n",
       "5            5    male   20     179     100   0 Rh+                no\n",
       "6            6    male   18     175      72   A Rh+               yes\n",
       "7            7    male   18     175      90   0 Rh+               yes\n",
       "8            8    male   18     179      61   0 Rh+               yes\n",
       "9            9  female   18     163      57   A Rh+               yes\n",
       "10          10    male   18     181      82   B Rh+               yes\n",
       "11          11    male   18     177      81   0 Rh+               yes\n",
       "12          12    male   19     181      93   0 Rh+               yes"
      ]
     },
     "execution_count": 230,
     "metadata": {},
     "output_type": "execute_result"
    }
   ],
   "source": [
    "data = pd.read_csv(\"Dataset/data.csv\")\n",
    "data"
   ]
  },
  {
   "cell_type": "code",
   "execution_count": 52,
   "metadata": {},
   "outputs": [
    {
     "name": "stdout",
     "output_type": "stream",
     "text": [
      "<class 'pandas.core.frame.DataFrame'>\n",
      "RangeIndex: 13 entries, 0 to 12\n",
      "Data columns (total 6 columns):\n",
      " #   Column             Non-Null Count  Dtype \n",
      "---  ------             --------------  ----- \n",
      " 0   Gender             13 non-null     object\n",
      " 1   Age                13 non-null     int64 \n",
      " 2   Height             13 non-null     int64 \n",
      " 3   Weight             13 non-null     int64 \n",
      " 4   Blood              13 non-null     object\n",
      " 5   relative_headache  13 non-null     object\n",
      "dtypes: int64(3), object(3)\n",
      "memory usage: 752.0+ bytes\n"
     ]
    }
   ],
   "source": [
    "# Data cleaning\n",
    "# There is no null data and unrelated data , so we dont need to drop or change anything\n",
    "# just look up the datatypes\n",
    "data.info()\n",
    "# We can convert the relative headache to a boolean value\n",
    "# we drop Rh+ cause they dont have any meaning for only this table - no negative blood type\n"
   ]
  },
  {
   "cell_type": "code",
   "execution_count": 53,
   "metadata": {},
   "outputs": [
    {
     "data": {
      "text/html": [
       "<div>\n",
       "<style scoped>\n",
       "    .dataframe tbody tr th:only-of-type {\n",
       "        vertical-align: middle;\n",
       "    }\n",
       "\n",
       "    .dataframe tbody tr th {\n",
       "        vertical-align: top;\n",
       "    }\n",
       "\n",
       "    .dataframe thead th {\n",
       "        text-align: right;\n",
       "    }\n",
       "</style>\n",
       "<table border=\"1\" class=\"dataframe\">\n",
       "  <thead>\n",
       "    <tr style=\"text-align: right;\">\n",
       "      <th></th>\n",
       "      <th>Gender</th>\n",
       "      <th>Age</th>\n",
       "      <th>Height</th>\n",
       "      <th>Weight</th>\n",
       "      <th>Blood</th>\n",
       "      <th>relative_headache</th>\n",
       "    </tr>\n",
       "  </thead>\n",
       "  <tbody>\n",
       "    <tr>\n",
       "      <th>0</th>\n",
       "      <td>female</td>\n",
       "      <td>18</td>\n",
       "      <td>165</td>\n",
       "      <td>53</td>\n",
       "      <td>A Rh+</td>\n",
       "      <td>1</td>\n",
       "    </tr>\n",
       "    <tr>\n",
       "      <th>1</th>\n",
       "      <td>female</td>\n",
       "      <td>18</td>\n",
       "      <td>171</td>\n",
       "      <td>60</td>\n",
       "      <td>0 Rh+</td>\n",
       "      <td>1</td>\n",
       "    </tr>\n",
       "    <tr>\n",
       "      <th>2</th>\n",
       "      <td>male</td>\n",
       "      <td>19</td>\n",
       "      <td>167</td>\n",
       "      <td>73</td>\n",
       "      <td>0 Rh+</td>\n",
       "      <td>1</td>\n",
       "    </tr>\n",
       "    <tr>\n",
       "      <th>3</th>\n",
       "      <td>male</td>\n",
       "      <td>18</td>\n",
       "      <td>170</td>\n",
       "      <td>65</td>\n",
       "      <td>AB Rh+</td>\n",
       "      <td>0</td>\n",
       "    </tr>\n",
       "    <tr>\n",
       "      <th>4</th>\n",
       "      <td>male</td>\n",
       "      <td>18</td>\n",
       "      <td>183</td>\n",
       "      <td>76</td>\n",
       "      <td>0 Rh+</td>\n",
       "      <td>0</td>\n",
       "    </tr>\n",
       "    <tr>\n",
       "      <th>5</th>\n",
       "      <td>male</td>\n",
       "      <td>20</td>\n",
       "      <td>179</td>\n",
       "      <td>100</td>\n",
       "      <td>0 Rh+</td>\n",
       "      <td>0</td>\n",
       "    </tr>\n",
       "    <tr>\n",
       "      <th>6</th>\n",
       "      <td>male</td>\n",
       "      <td>18</td>\n",
       "      <td>175</td>\n",
       "      <td>72</td>\n",
       "      <td>A Rh+</td>\n",
       "      <td>1</td>\n",
       "    </tr>\n",
       "    <tr>\n",
       "      <th>7</th>\n",
       "      <td>male</td>\n",
       "      <td>18</td>\n",
       "      <td>175</td>\n",
       "      <td>90</td>\n",
       "      <td>0 Rh+</td>\n",
       "      <td>1</td>\n",
       "    </tr>\n",
       "    <tr>\n",
       "      <th>8</th>\n",
       "      <td>male</td>\n",
       "      <td>18</td>\n",
       "      <td>179</td>\n",
       "      <td>61</td>\n",
       "      <td>0 Rh+</td>\n",
       "      <td>1</td>\n",
       "    </tr>\n",
       "    <tr>\n",
       "      <th>9</th>\n",
       "      <td>female</td>\n",
       "      <td>18</td>\n",
       "      <td>163</td>\n",
       "      <td>57</td>\n",
       "      <td>A Rh+</td>\n",
       "      <td>1</td>\n",
       "    </tr>\n",
       "    <tr>\n",
       "      <th>10</th>\n",
       "      <td>male</td>\n",
       "      <td>18</td>\n",
       "      <td>181</td>\n",
       "      <td>82</td>\n",
       "      <td>B Rh+</td>\n",
       "      <td>1</td>\n",
       "    </tr>\n",
       "    <tr>\n",
       "      <th>11</th>\n",
       "      <td>male</td>\n",
       "      <td>18</td>\n",
       "      <td>177</td>\n",
       "      <td>81</td>\n",
       "      <td>0 Rh+</td>\n",
       "      <td>1</td>\n",
       "    </tr>\n",
       "    <tr>\n",
       "      <th>12</th>\n",
       "      <td>male</td>\n",
       "      <td>19</td>\n",
       "      <td>181</td>\n",
       "      <td>93</td>\n",
       "      <td>0 Rh+</td>\n",
       "      <td>1</td>\n",
       "    </tr>\n",
       "  </tbody>\n",
       "</table>\n",
       "</div>"
      ],
      "text/plain": [
       "    Gender  Age  Height  Weight   Blood  relative_headache\n",
       "0   female   18     165      53   A Rh+                  1\n",
       "1   female   18     171      60   0 Rh+                  1\n",
       "2     male   19     167      73   0 Rh+                  1\n",
       "3     male   18     170      65  AB Rh+                  0\n",
       "4     male   18     183      76   0 Rh+                  0\n",
       "5     male   20     179     100   0 Rh+                  0\n",
       "6     male   18     175      72   A Rh+                  1\n",
       "7     male   18     175      90   0 Rh+                  1\n",
       "8     male   18     179      61   0 Rh+                  1\n",
       "9   female   18     163      57   A Rh+                  1\n",
       "10    male   18     181      82   B Rh+                  1\n",
       "11    male   18     177      81   0 Rh+                  1\n",
       "12    male   19     181      93   0 Rh+                  1"
      ]
     },
     "execution_count": 53,
     "metadata": {},
     "output_type": "execute_result"
    }
   ],
   "source": [
    "data[\"relative_headache\"]= data[\"relative_headache\"].map(dict(yes=1, no=0))\n",
    "data"
   ]
  },
  {
   "cell_type": "code",
   "execution_count": 131,
   "metadata": {},
   "outputs": [
    {
     "name": "stdout",
     "output_type": "stream",
     "text": [
      "<class 'pandas.core.frame.DataFrame'>\n",
      "RangeIndex: 13 entries, 0 to 12\n",
      "Data columns (total 6 columns):\n",
      " #   Column             Non-Null Count  Dtype \n",
      "---  ------             --------------  ----- \n",
      " 0   Gender             13 non-null     object\n",
      " 1   Age                13 non-null     int64 \n",
      " 2   Height             13 non-null     int64 \n",
      " 3   Weight             13 non-null     int64 \n",
      " 4   Blood              13 non-null     object\n",
      " 5   relative_headache  13 non-null     int64 \n",
      "dtypes: int64(4), object(2)\n",
      "memory usage: 752.0+ bytes\n"
     ]
    }
   ],
   "source": [
    "data.info()"
   ]
  },
  {
   "cell_type": "code",
   "execution_count": 132,
   "metadata": {},
   "outputs": [
    {
     "name": "stderr",
     "output_type": "stream",
     "text": [
      "<ipython-input-132-23bd05bcb8bc>:2: SettingWithCopyWarning: \n",
      "A value is trying to be set on a copy of a slice from a DataFrame\n",
      "\n",
      "See the caveats in the documentation: https://pandas.pydata.org/pandas-docs/stable/user_guide/indexing.html#returning-a-view-versus-a-copy\n",
      "  data.Blood[i] = data.Blood[i][:-4]\n"
     ]
    },
    {
     "data": {
      "text/html": [
       "<div>\n",
       "<style scoped>\n",
       "    .dataframe tbody tr th:only-of-type {\n",
       "        vertical-align: middle;\n",
       "    }\n",
       "\n",
       "    .dataframe tbody tr th {\n",
       "        vertical-align: top;\n",
       "    }\n",
       "\n",
       "    .dataframe thead th {\n",
       "        text-align: right;\n",
       "    }\n",
       "</style>\n",
       "<table border=\"1\" class=\"dataframe\">\n",
       "  <thead>\n",
       "    <tr style=\"text-align: right;\">\n",
       "      <th></th>\n",
       "      <th>Gender</th>\n",
       "      <th>Age</th>\n",
       "      <th>Height</th>\n",
       "      <th>Weight</th>\n",
       "      <th>Blood</th>\n",
       "      <th>relative_headache</th>\n",
       "    </tr>\n",
       "  </thead>\n",
       "  <tbody>\n",
       "    <tr>\n",
       "      <th>0</th>\n",
       "      <td>female</td>\n",
       "      <td>18</td>\n",
       "      <td>165</td>\n",
       "      <td>53</td>\n",
       "      <td></td>\n",
       "      <td>1</td>\n",
       "    </tr>\n",
       "    <tr>\n",
       "      <th>1</th>\n",
       "      <td>female</td>\n",
       "      <td>18</td>\n",
       "      <td>171</td>\n",
       "      <td>60</td>\n",
       "      <td></td>\n",
       "      <td>1</td>\n",
       "    </tr>\n",
       "    <tr>\n",
       "      <th>2</th>\n",
       "      <td>male</td>\n",
       "      <td>19</td>\n",
       "      <td>167</td>\n",
       "      <td>73</td>\n",
       "      <td></td>\n",
       "      <td>1</td>\n",
       "    </tr>\n",
       "    <tr>\n",
       "      <th>3</th>\n",
       "      <td>male</td>\n",
       "      <td>18</td>\n",
       "      <td>170</td>\n",
       "      <td>65</td>\n",
       "      <td></td>\n",
       "      <td>0</td>\n",
       "    </tr>\n",
       "    <tr>\n",
       "      <th>4</th>\n",
       "      <td>male</td>\n",
       "      <td>18</td>\n",
       "      <td>183</td>\n",
       "      <td>76</td>\n",
       "      <td></td>\n",
       "      <td>0</td>\n",
       "    </tr>\n",
       "    <tr>\n",
       "      <th>5</th>\n",
       "      <td>male</td>\n",
       "      <td>20</td>\n",
       "      <td>179</td>\n",
       "      <td>100</td>\n",
       "      <td></td>\n",
       "      <td>0</td>\n",
       "    </tr>\n",
       "    <tr>\n",
       "      <th>6</th>\n",
       "      <td>male</td>\n",
       "      <td>18</td>\n",
       "      <td>175</td>\n",
       "      <td>72</td>\n",
       "      <td></td>\n",
       "      <td>1</td>\n",
       "    </tr>\n",
       "    <tr>\n",
       "      <th>7</th>\n",
       "      <td>male</td>\n",
       "      <td>18</td>\n",
       "      <td>175</td>\n",
       "      <td>90</td>\n",
       "      <td></td>\n",
       "      <td>1</td>\n",
       "    </tr>\n",
       "    <tr>\n",
       "      <th>8</th>\n",
       "      <td>male</td>\n",
       "      <td>18</td>\n",
       "      <td>179</td>\n",
       "      <td>61</td>\n",
       "      <td></td>\n",
       "      <td>1</td>\n",
       "    </tr>\n",
       "    <tr>\n",
       "      <th>9</th>\n",
       "      <td>female</td>\n",
       "      <td>18</td>\n",
       "      <td>163</td>\n",
       "      <td>57</td>\n",
       "      <td></td>\n",
       "      <td>1</td>\n",
       "    </tr>\n",
       "    <tr>\n",
       "      <th>10</th>\n",
       "      <td>male</td>\n",
       "      <td>18</td>\n",
       "      <td>181</td>\n",
       "      <td>82</td>\n",
       "      <td></td>\n",
       "      <td>1</td>\n",
       "    </tr>\n",
       "    <tr>\n",
       "      <th>11</th>\n",
       "      <td>male</td>\n",
       "      <td>18</td>\n",
       "      <td>177</td>\n",
       "      <td>81</td>\n",
       "      <td></td>\n",
       "      <td>1</td>\n",
       "    </tr>\n",
       "    <tr>\n",
       "      <th>12</th>\n",
       "      <td>male</td>\n",
       "      <td>19</td>\n",
       "      <td>181</td>\n",
       "      <td>93</td>\n",
       "      <td></td>\n",
       "      <td>1</td>\n",
       "    </tr>\n",
       "  </tbody>\n",
       "</table>\n",
       "</div>"
      ],
      "text/plain": [
       "    Gender  Age  Height  Weight Blood  relative_headache\n",
       "0   female   18     165      53                        1\n",
       "1   female   18     171      60                        1\n",
       "2     male   19     167      73                        1\n",
       "3     male   18     170      65                        0\n",
       "4     male   18     183      76                        0\n",
       "5     male   20     179     100                        0\n",
       "6     male   18     175      72                        1\n",
       "7     male   18     175      90                        1\n",
       "8     male   18     179      61                        1\n",
       "9   female   18     163      57                        1\n",
       "10    male   18     181      82                        1\n",
       "11    male   18     177      81                        1\n",
       "12    male   19     181      93                        1"
      ]
     },
     "execution_count": 132,
     "metadata": {},
     "output_type": "execute_result"
    }
   ],
   "source": [
    "for i in range(data.shape[0]):\n",
    "    data.Blood[i] = data.Blood[i][:-4]\n",
    "data"
   ]
  },
  {
   "cell_type": "code",
   "execution_count": 133,
   "metadata": {},
   "outputs": [],
   "source": [
    "# we have 17 unique values like male-female- 18 19  A B etc\n",
    "# we can use them as original names\n",
    "# or we can convert all the possible values to an integer like 100 - 117\n",
    "# like male = 100, female = 101, 19 = 102 , 19 = 103 ... no = 116\n",
    "# or we can give them alphabetical chracters like A B C D \n",
    "\n"
   ]
  },
  {
   "cell_type": "code",
   "execution_count": 151,
   "metadata": {},
   "outputs": [
    {
     "name": "stdout",
     "output_type": "stream",
     "text": [
      "['female' 'male']\n",
      "[18 19 20]\n",
      "[165 171 167 170 183 179 175 163 181 177]\n",
      "[ 53  60  73  65  76 100  72  90  61  57  82  81  93]\n",
      "['A Rh+' '0 Rh+' 'AB Rh+' 'B Rh+']\n",
      "['yes' 'no']\n"
     ]
    }
   ],
   "source": [
    "for i in df.columns:\n",
    "    print(df[i].unique())\n",
    "#we need a dict to store these as an order"
   ]
  },
  {
   "cell_type": "code",
   "execution_count": 152,
   "metadata": {},
   "outputs": [
    {
     "name": "stdout",
     "output_type": "stream",
     "text": [
      "2\n",
      "3\n",
      "10\n",
      "13\n",
      "4\n",
      "2\n"
     ]
    }
   ],
   "source": [
    "for i in df.columns:\n",
    "    print(df[i].nunique())"
   ]
  },
  {
   "cell_type": "code",
   "execution_count": 153,
   "metadata": {},
   "outputs": [
    {
     "data": {
      "text/plain": [
       "34"
      ]
     },
     "execution_count": 153,
     "metadata": {},
     "output_type": "execute_result"
    }
   ],
   "source": [
    "total_unique_values = 0\n",
    "for i in df.columns:\n",
    "    total_unique_values += df[i].nunique()\n",
    "total_unique_values "
   ]
  },
  {
   "cell_type": "code",
   "execution_count": 154,
   "metadata": {},
   "outputs": [
    {
     "name": "stdout",
     "output_type": "stream",
     "text": [
      "    Gender  Age  Height Weight   Blood relative_headache\n",
      "0   female   18     165     W1   A Rh+               yes\n",
      "1   female   18     171     W1   0 Rh+               yes\n",
      "2     male   19     167     W1   0 Rh+               yes\n",
      "3     male   18     170     W1  AB Rh+                no\n",
      "4     male   18     183     W2   0 Rh+                no\n",
      "5     male   20     179     W3   0 Rh+                no\n",
      "6     male   18     175     W1   A Rh+               yes\n",
      "7     male   18     175     W2   0 Rh+               yes\n",
      "8     male   18     179     W1   0 Rh+               yes\n",
      "9   female   18     163     W1   A Rh+               yes\n",
      "10    male   18     181     W2   B Rh+               yes\n",
      "11    male   18     177     W2   0 Rh+               yes\n",
      "12    male   19     181     W3   0 Rh+               yes\n"
     ]
    }
   ],
   "source": [
    "# we'll have 17 after data binning - for weight range\n",
    "bins = [50, 75, 90, 100]\n",
    "labels = [\"W1\",\"W2\",\"W3\"]\n",
    "df['Weight'] = pd.cut(df['Weight'], bins=bins, labels=labels)\n",
    "print (df)"
   ]
  },
  {
   "cell_type": "code",
   "execution_count": 155,
   "metadata": {},
   "outputs": [
    {
     "name": "stdout",
     "output_type": "stream",
     "text": [
      "    Gender  Age Height Weight   Blood relative_headache\n",
      "0   female   18     H1     W1   A Rh+               yes\n",
      "1   female   18     H2     W1   0 Rh+               yes\n",
      "2     male   19     H1     W1   0 Rh+               yes\n",
      "3     male   18     H2     W1  AB Rh+                no\n",
      "4     male   18     H3     W2   0 Rh+                no\n",
      "5     male   20     H3     W3   0 Rh+                no\n",
      "6     male   18     H2     W1   A Rh+               yes\n",
      "7     male   18     H2     W2   0 Rh+               yes\n",
      "8     male   18     H3     W1   0 Rh+               yes\n",
      "9   female   18     H1     W1   A Rh+               yes\n",
      "10    male   18     H3     W2   B Rh+               yes\n",
      "11    male   18     H3     W2   0 Rh+               yes\n",
      "12    male   19     H3     W3   0 Rh+               yes\n"
     ]
    }
   ],
   "source": [
    "# we'll have 17 after data binning - for height range\n",
    "bins2 = [160, 167, 175, 183]\n",
    "labels2 = [\"H1\",\"H2\",\"H3\"]\n",
    "df['Height'] = pd.cut(df['Height'], bins=bins2, labels=labels2)\n",
    "print (df)"
   ]
  },
  {
   "cell_type": "code",
   "execution_count": 156,
   "metadata": {},
   "outputs": [
    {
     "data": {
      "text/plain": [
       "17"
      ]
     },
     "execution_count": 156,
     "metadata": {},
     "output_type": "execute_result"
    }
   ],
   "source": [
    "# run unique counts again\n",
    "total_unique_values = 0\n",
    "for i in df.columns:\n",
    "    total_unique_values += df[i].nunique()\n",
    "total_unique_values \n",
    "# there is no problem anymore"
   ]
  },
  {
   "cell_type": "code",
   "execution_count": 157,
   "metadata": {},
   "outputs": [
    {
     "name": "stdout",
     "output_type": "stream",
     "text": [
      "female\n",
      "male\n",
      "18\n",
      "19\n",
      "20\n",
      "H1\n",
      "H2\n",
      "H3\n",
      "W1\n",
      "W2\n",
      "W3\n",
      "A Rh+\n",
      "0 Rh+\n",
      "AB Rh+\n",
      "B Rh+\n",
      "yes\n",
      "no\n"
     ]
    }
   ],
   "source": [
    "for i in df.columns:\n",
    "    for j in range(df[i].nunique()):\n",
    "        print(df[i].unique()[j])"
   ]
  },
  {
   "cell_type": "code",
   "execution_count": 158,
   "metadata": {},
   "outputs": [
    {
     "name": "stdout",
     "output_type": "stream",
     "text": [
      "{'female': 0, 'male': 1, 18: 2, 19: 3, 20: 4, 'H1': 5, 'H2': 6, 'H3': 7, 'W1': 8, 'W2': 9, 'W3': 10, 'A Rh+': 11, '0 Rh+': 12, 'AB Rh+': 13, 'B Rh+': 14, 'yes': 15, 'no': 16}\n"
     ]
    }
   ],
   "source": [
    "unique_int = 0\n",
    "our_dict = {}\n",
    "for i in df.columns:\n",
    "    for j in range(df[i].nunique()):\n",
    "        our_dict[df[i].unique()[j]] = unique_int\n",
    "        unique_int += 1\n",
    "        \n",
    "print(our_dict)\n",
    "\n",
    "#now assign the integer values for each unique values "
   ]
  },
  {
   "cell_type": "code",
   "execution_count": 159,
   "metadata": {},
   "outputs": [
    {
     "name": "stdout",
     "output_type": "stream",
     "text": [
      "<class 'pandas.core.frame.DataFrame'>\n",
      "RangeIndex: 13 entries, 0 to 12\n",
      "Data columns (total 6 columns):\n",
      " #   Column             Non-Null Count  Dtype   \n",
      "---  ------             --------------  -----   \n",
      " 0   Gender             13 non-null     object  \n",
      " 1   Age                13 non-null     int64   \n",
      " 2   Height             13 non-null     category\n",
      " 3   Weight             13 non-null     category\n",
      " 4   Blood              13 non-null     object  \n",
      " 5   relative_headache  13 non-null     object  \n",
      "dtypes: category(2), int64(1), object(3)\n",
      "memory usage: 778.0+ bytes\n"
     ]
    }
   ],
   "source": [
    "# there is category datatypes in data- we have to convert them to str for further operations like conditional things\n",
    "df.info()"
   ]
  },
  {
   "cell_type": "code",
   "execution_count": 160,
   "metadata": {},
   "outputs": [
    {
     "name": "stdout",
     "output_type": "stream",
     "text": [
      "<class 'pandas.core.frame.DataFrame'>\n",
      "RangeIndex: 13 entries, 0 to 12\n",
      "Data columns (total 6 columns):\n",
      " #   Column             Non-Null Count  Dtype \n",
      "---  ------             --------------  ----- \n",
      " 0   Gender             13 non-null     object\n",
      " 1   Age                13 non-null     int64 \n",
      " 2   Height             13 non-null     object\n",
      " 3   Weight             13 non-null     object\n",
      " 4   Blood              13 non-null     object\n",
      " 5   relative_headache  13 non-null     object\n",
      "dtypes: int64(1), object(5)\n",
      "memory usage: 752.0+ bytes\n"
     ]
    }
   ],
   "source": [
    "# conversion\n",
    "df['Height'] = df.Height.astype(str)\n",
    "df['Weight'] = df.Weight.astype(str)\n",
    "df.info()"
   ]
  },
  {
   "cell_type": "code",
   "execution_count": 161,
   "metadata": {},
   "outputs": [
    {
     "name": "stderr",
     "output_type": "stream",
     "text": [
      "<ipython-input-161-1122941d1a17>:3: SettingWithCopyWarning: \n",
      "A value is trying to be set on a copy of a slice from a DataFrame\n",
      "\n",
      "See the caveats in the documentation: https://pandas.pydata.org/pandas-docs/stable/user_guide/indexing.html#returning-a-view-versus-a-copy\n",
      "  df[i][j] = our_dict[df[i][j]]\n"
     ]
    }
   ],
   "source": [
    "for i in df.columns:\n",
    "    for j in range(df.shape[0]):\n",
    "        df[i][j] = our_dict[df[i][j]]"
   ]
  },
  {
   "cell_type": "code",
   "execution_count": 166,
   "metadata": {},
   "outputs": [
    {
     "name": "stdout",
     "output_type": "stream",
     "text": [
      "   Gender  Age Height Weight Blood relative_headache\n",
      "0       0    2      5      8    11                15\n",
      "1       0    2      6      8    12                15\n",
      "2       1    3      5      8    12                15\n",
      "3       1    2      6      8    13                16\n",
      "4       1    2      7      9    12                16\n",
      "5       1    4      7     10    12                16\n",
      "6       1    2      6      8    11                15\n",
      "7       1    2      6      9    12                15\n",
      "8       1    2      7      8    12                15\n",
      "9       0    2      5      8    11                15\n",
      "10      1    2      7      9    14                15\n",
      "11      1    2      7      9    12                15\n",
      "12      1    3      7     10    12                15\n"
     ]
    }
   ],
   "source": [
    "print(df)"
   ]
  },
  {
   "cell_type": "code",
   "execution_count": 167,
   "metadata": {},
   "outputs": [
    {
     "name": "stdout",
     "output_type": "stream",
     "text": [
      "{'female': 0, 'male': 1, 18: 2, 19: 3, 20: 4, 'H1': 5, 'H2': 6, 'H3': 7, 'W1': 8, 'W2': 9, 'W3': 10, 'A Rh+': 11, '0 Rh+': 12, 'AB Rh+': 13, 'B Rh+': 14, 'yes': 15, 'no': 16}\n"
     ]
    }
   ],
   "source": [
    "print(our_dict)"
   ]
  },
  {
   "cell_type": "code",
   "execution_count": 168,
   "metadata": {},
   "outputs": [
    {
     "data": {
      "text/html": [
       "<div>\n",
       "<style scoped>\n",
       "    .dataframe tbody tr th:only-of-type {\n",
       "        vertical-align: middle;\n",
       "    }\n",
       "\n",
       "    .dataframe tbody tr th {\n",
       "        vertical-align: top;\n",
       "    }\n",
       "\n",
       "    .dataframe thead th {\n",
       "        text-align: right;\n",
       "    }\n",
       "</style>\n",
       "<table border=\"1\" class=\"dataframe\">\n",
       "  <thead>\n",
       "    <tr style=\"text-align: right;\">\n",
       "      <th></th>\n",
       "      <th>Gender</th>\n",
       "      <th>Age</th>\n",
       "      <th>Height</th>\n",
       "      <th>Weight</th>\n",
       "      <th>Blood</th>\n",
       "      <th>relative_headache</th>\n",
       "    </tr>\n",
       "  </thead>\n",
       "  <tbody>\n",
       "    <tr>\n",
       "      <th>0</th>\n",
       "      <td>0</td>\n",
       "      <td>2</td>\n",
       "      <td>5</td>\n",
       "      <td>8</td>\n",
       "      <td>11</td>\n",
       "      <td>15</td>\n",
       "    </tr>\n",
       "    <tr>\n",
       "      <th>1</th>\n",
       "      <td>0</td>\n",
       "      <td>2</td>\n",
       "      <td>6</td>\n",
       "      <td>8</td>\n",
       "      <td>12</td>\n",
       "      <td>15</td>\n",
       "    </tr>\n",
       "    <tr>\n",
       "      <th>2</th>\n",
       "      <td>1</td>\n",
       "      <td>3</td>\n",
       "      <td>5</td>\n",
       "      <td>8</td>\n",
       "      <td>12</td>\n",
       "      <td>15</td>\n",
       "    </tr>\n",
       "    <tr>\n",
       "      <th>3</th>\n",
       "      <td>1</td>\n",
       "      <td>2</td>\n",
       "      <td>6</td>\n",
       "      <td>8</td>\n",
       "      <td>13</td>\n",
       "      <td>16</td>\n",
       "    </tr>\n",
       "    <tr>\n",
       "      <th>4</th>\n",
       "      <td>1</td>\n",
       "      <td>2</td>\n",
       "      <td>7</td>\n",
       "      <td>9</td>\n",
       "      <td>12</td>\n",
       "      <td>16</td>\n",
       "    </tr>\n",
       "    <tr>\n",
       "      <th>5</th>\n",
       "      <td>1</td>\n",
       "      <td>4</td>\n",
       "      <td>7</td>\n",
       "      <td>10</td>\n",
       "      <td>12</td>\n",
       "      <td>16</td>\n",
       "    </tr>\n",
       "    <tr>\n",
       "      <th>6</th>\n",
       "      <td>1</td>\n",
       "      <td>2</td>\n",
       "      <td>6</td>\n",
       "      <td>8</td>\n",
       "      <td>11</td>\n",
       "      <td>15</td>\n",
       "    </tr>\n",
       "    <tr>\n",
       "      <th>7</th>\n",
       "      <td>1</td>\n",
       "      <td>2</td>\n",
       "      <td>6</td>\n",
       "      <td>9</td>\n",
       "      <td>12</td>\n",
       "      <td>15</td>\n",
       "    </tr>\n",
       "    <tr>\n",
       "      <th>8</th>\n",
       "      <td>1</td>\n",
       "      <td>2</td>\n",
       "      <td>7</td>\n",
       "      <td>8</td>\n",
       "      <td>12</td>\n",
       "      <td>15</td>\n",
       "    </tr>\n",
       "    <tr>\n",
       "      <th>9</th>\n",
       "      <td>0</td>\n",
       "      <td>2</td>\n",
       "      <td>5</td>\n",
       "      <td>8</td>\n",
       "      <td>11</td>\n",
       "      <td>15</td>\n",
       "    </tr>\n",
       "    <tr>\n",
       "      <th>10</th>\n",
       "      <td>1</td>\n",
       "      <td>2</td>\n",
       "      <td>7</td>\n",
       "      <td>9</td>\n",
       "      <td>14</td>\n",
       "      <td>15</td>\n",
       "    </tr>\n",
       "    <tr>\n",
       "      <th>11</th>\n",
       "      <td>1</td>\n",
       "      <td>2</td>\n",
       "      <td>7</td>\n",
       "      <td>9</td>\n",
       "      <td>12</td>\n",
       "      <td>15</td>\n",
       "    </tr>\n",
       "    <tr>\n",
       "      <th>12</th>\n",
       "      <td>1</td>\n",
       "      <td>3</td>\n",
       "      <td>7</td>\n",
       "      <td>10</td>\n",
       "      <td>12</td>\n",
       "      <td>15</td>\n",
       "    </tr>\n",
       "  </tbody>\n",
       "</table>\n",
       "</div>"
      ],
      "text/plain": [
       "   Gender  Age Height Weight Blood relative_headache\n",
       "0       0    2      5      8    11                15\n",
       "1       0    2      6      8    12                15\n",
       "2       1    3      5      8    12                15\n",
       "3       1    2      6      8    13                16\n",
       "4       1    2      7      9    12                16\n",
       "5       1    4      7     10    12                16\n",
       "6       1    2      6      8    11                15\n",
       "7       1    2      6      9    12                15\n",
       "8       1    2      7      8    12                15\n",
       "9       0    2      5      8    11                15\n",
       "10      1    2      7      9    14                15\n",
       "11      1    2      7      9    12                15\n",
       "12      1    3      7     10    12                15"
      ]
     },
     "execution_count": 168,
     "metadata": {},
     "output_type": "execute_result"
    }
   ],
   "source": [
    "df"
   ]
  },
  {
   "cell_type": "code",
   "execution_count": 169,
   "metadata": {},
   "outputs": [
    {
     "data": {
      "text/plain": [
       "17"
      ]
     },
     "execution_count": 169,
     "metadata": {},
     "output_type": "execute_result"
    }
   ],
   "source": [
    "unique_int"
   ]
  },
  {
   "cell_type": "code",
   "execution_count": 207,
   "metadata": {},
   "outputs": [
    {
     "name": "stdout",
     "output_type": "stream",
     "text": [
      "10\n",
      "greater\n",
      "10\n",
      "greater\n",
      "6\n",
      "greater\n",
      "7\n",
      "greater\n",
      "8\n",
      "greater\n",
      "10\n",
      "greater\n"
     ]
    }
   ],
   "source": [
    "L1 = {}\n",
    "# btw we have %40 support value as a threshold value - choose 5 as thresh - couse this dataset has 13 item/row\n",
    "# check the count for each value in data set\n",
    "# this is first iteration there will be more \n",
    "for i in range(total_unique_values):\n",
    "    for j in df.columns:\n",
    "        count = 0\n",
    "        for k in range(df.shape[0]):\n",
    "            if int(df[j][k]) == int(i):\n",
    "                count += 1\n",
    "        if count > 4:\n",
    "            print(count)\n",
    "            print(\"greater\")\n",
    "\n",
    "      "
   ]
  },
  {
   "cell_type": "code",
   "execution_count": null,
   "metadata": {},
   "outputs": [],
   "source": [
    "# I am just trying to make some improvements - this is not actual algorithm solution and also this one is data specific.\n",
    "# Still updating\n"
   ]
  }
 ],
 "metadata": {
  "kernelspec": {
   "display_name": "Python 3",
   "language": "python",
   "name": "python3"
  },
  "language_info": {
   "codemirror_mode": {
    "name": "ipython",
    "version": 3
   },
   "file_extension": ".py",
   "mimetype": "text/x-python",
   "name": "python",
   "nbconvert_exporter": "python",
   "pygments_lexer": "ipython3",
   "version": "3.8.5"
  }
 },
 "nbformat": 4,
 "nbformat_minor": 4
}
